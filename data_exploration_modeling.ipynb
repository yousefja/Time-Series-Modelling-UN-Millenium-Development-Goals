{
 "cells": [
  {
   "cell_type": "markdown",
   "metadata": {},
   "source": [
    "---\n",
    "\n",
    "# United Nations Millenium Development Goals\n",
    "DriveData Competition https://www.drivendata.org/competitions/1/united-nations-millennium-development-goals/\n",
    "\n",
    "Multivariate Time Series Forecasting\n",
    "\n",
    "by Yuseof Jaber\n",
    "                                           "
   ]
  },
  {
   "cell_type": "markdown",
   "metadata": {},
   "source": [
    "------------\n",
    "# Material that aided me in this project:\n",
    "\n",
    "    1. Sequences, Time Series, and Predictions (Coursera and DeepLearning.ai)\n",
    "        https://www.coursera.org/learn/tensorflow-sequences-time-series-and-prediction\n",
    "       \n",
    "    2. Iterative Imputation\n",
    "        https://machinelearningmastery.com/iterative-imputation-for-missing-values-in-machine-learning/\n",
    "    \n",
    "    3. Correlation Tests and Feature Selection\n",
    "        https://towardsdatascience.com/feature-selection-with-pandas-e3690ad8504b\n",
    "        https://www.datacamp.com/community/tutorials/feature-selection-python\n",
    "        \n",
    "    4. Standardization vs Normalization\n",
    "        https://towardsai.net/p/data-science/how-when-and-why-should-you-normalize-standardize-rescale-your-data-3f083def38ff\n",
    "    \n",
    "    5. CNNs for Time Series Forecasting\n",
    "        https://machinelearningmastery.com/how-to-develop-convolutional-neural-network-models-for-time-series-forecasting/\n",
    "    "
   ]
  },
  {
   "cell_type": "markdown",
   "metadata": {},
   "source": [
    "Note: In this project I refer to 'Features' and 'Indicators' interchangeably, as well as 'Goals' and 'Targets'"
   ]
  },
  {
   "cell_type": "markdown",
   "metadata": {},
   "source": [
    "# Imports"
   ]
  },
  {
   "cell_type": "code",
   "execution_count": 1,
   "metadata": {},
   "outputs": [
    {
     "name": "stderr",
     "output_type": "stream",
     "text": [
      "Using TensorFlow backend.\n"
     ]
    }
   ],
   "source": [
    "#data manipulation \n",
    "import numpy as np\n",
    "import pandas as pd\n",
    "\n",
    "#graphing\n",
    "import seaborn as sns\n",
    "import matplotlib.pyplot as plt\n",
    "#import prettyplotlib as pplt\n",
    "\n",
    "#imputing\n",
    "from sklearn.impute import KNNImputer\n",
    "from sklearn.experimental import enable_iterative_imputer\n",
    "from sklearn.impute import IterativeImputer\n",
    "\n",
    "#data normalization\n",
    "from sklearn.preprocessing import StandardScaler\n",
    "from sklearn.preprocessing import MinMaxScaler\n",
    "\n",
    "#Tensorflow\n",
    "import tensorflow as tf\n",
    "\n",
    "#Keras\n",
    "import keras\n",
    "from keras.layers import Input, Dense, LSTM, Flatten\n",
    "from keras.models import Sequential, Model\n",
    "from keras.layers.convolutional import Conv1D, MaxPooling1D\n",
    "\n",
    "#Errors\n",
    "from sklearn.metrics import mean_squared_error"
   ]
  },
  {
   "cell_type": "code",
   "execution_count": 2,
   "metadata": {},
   "outputs": [
    {
     "name": "stdout",
     "output_type": "stream",
     "text": [
      "2.1.0\n"
     ]
    }
   ],
   "source": [
    "print(tf.__version__)"
   ]
  },
  {
   "cell_type": "markdown",
   "metadata": {},
   "source": [
    "# Read Data"
   ]
  },
  {
   "cell_type": "code",
   "execution_count": 5,
   "metadata": {
    "scrolled": true
   },
   "outputs": [],
   "source": [
    "#Read Data from CSV files\n",
    "data = pd.read_csv('./data/TrainingSet.csv', index_col = 0)\n",
    "submission = pd.read_csv('./SubmissionRows.csv', index_col = 0)\n",
    "data_original = data"
   ]
  },
  {
   "cell_type": "markdown",
   "metadata": {},
   "source": [
    "# Getting Started"
   ]
  },
  {
   "cell_type": "code",
   "execution_count": 6,
   "metadata": {},
   "outputs": [],
   "source": [
    "#data exploration\n",
    "\n",
    "#214 countries in the dataset\n",
    "countries = data['Country Name'].unique()\n",
    "\n",
    "#print(countries)\n",
    "\n",
    "#get the MDGs from the submission file\n",
    "mdgs = submission.index\n",
    "\n",
    "#Exploring Targets for prediction\n",
    "targets_index = data.loc[mdgs].index\n",
    "prediction_rows = data.loc[mdgs]\n",
    "\n",
    "#Amount of rows (indicators?) per country\n",
    "rows_country = data.groupby('Country Name')['Series Name'].count()"
   ]
  },
  {
   "cell_type": "code",
   "execution_count": 7,
   "metadata": {},
   "outputs": [],
   "source": [
    "#Summary of the goals for all the countries in the dataset\n",
    "goals_by_country = prediction_rows.groupby('Country Name')[['Country Name','Series Name']]\n",
    "\n",
    "def get_targets_and_indicators_by_country(country, dataset, mdgs):\n",
    "    \n",
    "    '''\n",
    "    Aptly named function \n",
    "    \n",
    "    args:\n",
    "        country -- the country being queried\n",
    "        dataset -- which dataset to pull indicators from\n",
    "        mdgs    -- indices (from submission csv) \n",
    "    \n",
    "    returns:\n",
    "        country_indicators -- DataFrame containing all rows from dataset for country specified\n",
    "        country_targets    -- DataFrame containing all rows that represent the targets to be predicted for country specified\n",
    "    '''\n",
    "    \n",
    "    if (country not in data['Country Name'].values):\n",
    "        print(\"*WARNING* Can't find %s in dataset, returning null values\" % country)\n",
    "        return None, None\n",
    "        \n",
    "    country_indicators = dataset[dataset['Country Name'] == country]\n",
    "    country_targets = country_indicators.loc[set(mdgs.values) & set(country_indicators.index.values)]\n",
    "    \n",
    "    return  country_targets, country_indicators"
   ]
  },
  {
   "cell_type": "code",
   "execution_count": 8,
   "metadata": {},
   "outputs": [
    {
     "data": {
      "image/png": "[encoded data removed]",
      "text/plain": [
       "<Figure size 1008x432 with 1 Axes>"
      ]
     },
     "metadata": {
      "needs_background": "light"
     },
     "output_type": "display_data"
    }
   ],
   "source": [
    "'''\n",
    "---------------------------  PROGRESS TOWARDS MDGs ---------------------------------------\n",
    "\n",
    "'''\n",
    "\n",
    "targets, indicators = get_targets_and_indicators_by_country(\"Israel\", data, mdgs)\n",
    "country = targets['Country Name'].iloc[0]\n",
    "\n",
    "years = [x for x in range(1972, 2008, 1)]\n",
    "\n",
    "#Make series name the index for plot legend\n",
    "targets = targets.set_index('Series Name')\n",
    "\n",
    "#remove non numeric info\n",
    "targets = targets.select_dtypes(exclude = ['object'])\n",
    "\n",
    "#'1972 yr[1972]' ---> 1972\n",
    "targets.columns = years\n",
    "\n",
    "#flip so year is x-axis\n",
    "targets = targets.transpose()\n",
    "\n",
    "#get rid of nulls\n",
    "targets = targets.mask(targets.isnull())\n",
    "\n",
    "#plot config\n",
    "plt.figure(figsize=(14, 6))\n",
    "plt.title('MDG Progress for %s' % country)\n",
    "\n",
    "\n",
    "line = sns.lineplot(data = targets)\n"
   ]
  },
  {
   "cell_type": "code",
   "execution_count": 9,
   "metadata": {
    "scrolled": true
   },
   "outputs": [],
   "source": [
    "import statistics \n",
    "#Get overlapping Indicators between countries\n",
    "target_Z, indic_Z = get_targets_and_indicators_by_country(\"American Samoa\", data, mdgs)\n",
    "A_list = indicators['Series Name'].values.tolist()\n",
    "Z_list = indic_Z['Series Name'].values.tolist()\n",
    "\n",
    "overlap = set(A_list) & set(Z_list)\n",
    "\n",
    "\n",
    "'''\n",
    "--------------------  INFORMATION ABOUT INDICATORS --------------------\n",
    "\n",
    "I will be using the value 934 as a baseline number of indicators (and \n",
    "therefore features for the models). \n",
    "\n",
    "'''\n",
    "\n",
    "max = data.groupby('Country Name')['Series Name'].count().max()    #1255\n",
    "min = data.groupby('Country Name')['Series Name'].count().min()    #13\n",
    "avg = data.groupby('Country Name')['Series Name'].count().mean()   #913\n",
    "mode = data.groupby('Country Name')['Series Name'].count().mode()  #887, 934, 1196, 1212\n"
   ]
  },
  {
   "cell_type": "code",
   "execution_count": 10,
   "metadata": {},
   "outputs": [],
   "source": [
    "#Get all possible targets to be predicted\n",
    "#x = data.loc[mdgs].groupby('Country Name')['Series Name'].count() == 6\n",
    "target_data = data.loc[mdgs]\n",
    "target_names = target_data['Series Name'].unique()\n",
    "target_names.sort()"
   ]
  },
  {
   "cell_type": "markdown",
   "metadata": {},
   "source": [
    "# Helper Functions"
   ]
  },
  {
   "cell_type": "code",
   "execution_count": 11,
   "metadata": {},
   "outputs": [],
   "source": [
    "import datetime \n",
    "\n",
    "def convert_to_datetime(str):\n",
    "   \n",
    "    '''\n",
    "    This function will be used in order to map the years in format '1972 [YR1972]' to a datetime object \n",
    "    '1972 - 01 - 01'\n",
    "    '''\n",
    "    \n",
    "    str = str.split(' ')[0]\n",
    "    str = datetime.datetime.strptime(str, '%Y')\n",
    "    return str"
   ]
  },
  {
   "cell_type": "markdown",
   "metadata": {},
   "source": [
    "-------\n",
    "# Data Wrangling\n",
    "\n",
    "SORTING DATA INTO SEPERATE INDICATOR AND GOAL DATAFRAMES\n",
    "\n",
    "----"
   ]
  },
  {
   "cell_type": "code",
   "execution_count": 12,
   "metadata": {},
   "outputs": [],
   "source": [
    "def get_indicators_for_model(indicator_threshold, indicator_dataframe):\n",
    "    \n",
    "    '''\n",
    "    Sorts indicators by the amount of countries that have them, then picks all of the indicators until \n",
    "    it reaches one with indicator_threshold number of countries \n",
    "    \n",
    "    args:\n",
    "        indicator_threshold -- the minimum amount of countries with a given indicator\n",
    "        indicator_dataframe -- dataframe to pull indicators from\n",
    "        \n",
    "    returns:\n",
    "        most_common_indicators -- DataFrame with all indicators with count above indicator threshold\n",
    "        \n",
    "    '''\n",
    "    \n",
    "    #get(no_indicators_for_model) most common indicators in alphabetical order\n",
    "    indicator_count = indicator_dataframe.groupby('Series Name')['Country Name'].count()\n",
    "    indicator_count.sort_values(ascending = False)\n",
    "\n",
    "    most_common_indicators = indicator_count[indicator_count >= indicator_threshold]\n",
    "    most_common_indicators_list = most_common_indicators.index.sort_values().tolist()\n",
    "    \n",
    "    return most_common_indicators_list\n"
   ]
  },
  {
   "cell_type": "code",
   "execution_count": 13,
   "metadata": {},
   "outputs": [],
   "source": [
    "def add_missing_indicators(feature_dataframe, indicators_list):\n",
    "    \n",
    "    '''\n",
    "    Takes the feature dataframe, checks which indicators from the desired_indicators_list it doesn't have, \n",
    "    and adds Nan filled rows for each missing indicator\n",
    "\n",
    "    args:\n",
    "        feature_dataframe -- targets removed, indexed by [Country Name, Series Name]\n",
    "        indicators_list -- returned from get_indicators_for_model\n",
    "\n",
    "    '''\n",
    "\n",
    "    #used for column names to populate dataframe for missing indicators\n",
    "    years = feature_dataframe.columns\n",
    "\n",
    "    #now add missing indicators and set values to nan for each country (NOTE! this can probably be done more efficiently)\n",
    "    for country in countries:\n",
    "\n",
    "        #get indicators for current country (as a DataFrame)\n",
    "        current = feature_dataframe.loc[country]\n",
    "\n",
    "        #determine which indicators are missing from current\n",
    "        missing_indicators_list = set(indicators_list) - set(current.index.tolist())\n",
    "        missing_count = len(missing_indicators_list)\n",
    "\n",
    "        #create indices to match the multiindicies of the X_features multiindex df\n",
    "        index_arrays = [np.array([str(country) for x in range(missing_count)]), np.array(list(missing_indicators_list))]\n",
    "\n",
    "        #create a matrix of Nan values to be used for the missing indicator values\n",
    "        nan_matrix = np.empty((missing_count, len(years)))\n",
    "        nan_matrix[:] = np.nan\n",
    "\n",
    "        #create a multiindex df for the missing indicators to append to the X_features df\n",
    "        missing_indicators_midf = pd.DataFrame(nan_matrix, index = index_arrays, columns = years)\n",
    "        feature_dataframe = feature_dataframe.append(missing_indicators_midf)\n",
    "\n",
    "    #appending adds rows to end of df rather than end of rows with same index. Sorting fixes this\n",
    "    feature_dataframe = feature_dataframe.sort_index()\n",
    "\n",
    "    #Check to see that all countries have the same number of indicators\n",
    "    checker = feature_dataframe.reset_index().groupby('Country Name')['Series Name'].count()\n",
    "    assert(checker.iloc[0] > 0)\n",
    "    assert(checker.sum() == checker.iloc[0] * len(checker))\n",
    "    \n",
    "    #reformat years so they are in datetime format\n",
    "    reformatted_cols = feature_dataframe.columns.map(convert_to_datetime).tolist()\n",
    "    feature_dataframe.columns = reformatted_cols\n",
    "\n",
    "    #essentially swapping the years columns with the 'Series Name' index. In a sense, transposing\n",
    "    feature_dataframe_stacked = feature_dataframe.stack(dropna = False)\n",
    "    feature_dataframe = feature_dataframe_stacked.unstack(1)\n",
    "    \n",
    "    return feature_dataframe"
   ]
  },
  {
   "cell_type": "markdown",
   "metadata": {},
   "source": [
    "----\n",
    "# ALTERNATE IMPUTATION METHODS FOR STATISTICAL MODELS\n",
    "----\n",
    "\n",
    "These were developed in the early stages of the project. Might Still be useful, just not for current models."
   ]
  },
  {
   "cell_type": "code",
   "execution_count": 14,
   "metadata": {},
   "outputs": [],
   "source": [
    "from sklearn.impute import SimpleImputer\n",
    "from sklearn.model_selection import train_test_split\n",
    "\n",
    "#TODO: Fix logic for nan checking\n",
    "\n",
    "def split_and_impute(features, targets, x_strategy, y_strategy, test_size):\n",
    "    '''\n",
    "    Vary impute methods and test_size to allow for testing models with multiple train and test sets\n",
    "    \n",
    "    args:\n",
    "        features -- indicator dataframe (no index)\n",
    "        targets  -- goal dataframe (no index)\n",
    "        x_strategy -- how to impute indicators\n",
    "        y_strategy -- how to impute goals \n",
    "        test_size -- for splitting data\n",
    "    \n",
    "    returns:\n",
    "        X_train_imputed\n",
    "        X_test_imputed\n",
    "        y_train_imputed\n",
    "        y_test_imputed\n",
    "    '''\n",
    "    \n",
    "    t_check = True\n",
    "    t1, t2, t3, t4 =  None, None, None, None \n",
    "    \n",
    "    while(t_check):\n",
    "        #split into sets, make sure the test split doesn't create any all-nan columns in subsets (making imputing impossible)\n",
    "        resplit_not_successful = True\n",
    "        X_train, X_test, y_train, y_test = None, None, None, None\n",
    "\n",
    "        while(resplit_not_successful == True):\n",
    "            X_train, X_test, y_train, y_test = train_test_split(features, targets, test_size = test_size, shuffle = True)\n",
    "            sets_for_na_check = [X_train, X_test, y_train, y_test]   \n",
    "\n",
    "            #false if all nan, meaning resplit is desired\n",
    "            for i in sets_for_na_check:\n",
    "                resplit_not_successful = resplit_not_successful and i.notna().any().any()\n",
    "\n",
    "            #exit when resplit_not_successful is false \n",
    "            resplit_not_successful = resplit_not_successful != True\n",
    "\n",
    "        #Add on to functionality later, for now x will always be simple imputer and y fillna()\n",
    "\n",
    "        #Features\n",
    "        if(x_strategy == 'simple_mean'):\n",
    "            imputer_x = SimpleImputer(strategy = 'mean')\n",
    "\n",
    "        elif(x_strategy == 'simple_median'):\n",
    "            imputer_x = SimpleImputer(strategy = 'median')\n",
    "\n",
    "        elif(x_strategy == 'simple_frequent'):\n",
    "            imputer_x = SimpleImputer(strategy = 'most_frequent')\n",
    "\n",
    "        X_train_imputed = pd.DataFrame(imputer_x.fit_transform(X_train), columns = X_train.columns)\n",
    "        X_test_imputed  = pd.DataFrame(imputer_x.transform(X_test), columns = X_test.columns)\n",
    "\n",
    "        #Targets\n",
    "        if(y_strategy == 'fill_mean'):\n",
    "            y_train_imputed = y_train.fillna(y_train.mean())\n",
    "            y_test_imputed = y_test.fillna(y_test.mean())\n",
    "\n",
    "        elif(y_strategy == 'fill_median'):\n",
    "            y_train_imputed = y_train.fillna(y_train.median())\n",
    "            y_test_imputed = y_test.fillna(y_test.median())\n",
    "\n",
    "        elif(y_strategy == 'fill_mode'):\n",
    "            y_train_imputed = y_train.fillna(y_train.mode())\n",
    "            y_test_imputed = y_test.fillna(y_test.mode())\n",
    "\n",
    "\n",
    "        #make sure no nan, if so call function again\n",
    "        t1, t2, t3, t4 =  pd.isnull(X_train_imputed).any().any(), pd.isnull(X_test_imputed).any().any(), pd.isnull(y_train_imputed).any().any(), pd.isnull(y_test_imputed).any().any()\n",
    "        t_check = t1 or t2 or t3 or t4\n",
    "            \n",
    "    print('t_check passed if false: ', t_check)\n",
    "    return X_train_imputed, X_test_imputed, y_train_imputed, y_test_imputed, y_test, y_train\n"
   ]
  },
  {
   "cell_type": "code",
   "execution_count": 15,
   "metadata": {},
   "outputs": [],
   "source": [
    "def knn_interpolate(filled_indicators_df, n_rows, n_knn_neighbors, d, knn_weights = None):\n",
    "    '''\n",
    "    Use KNN imputation to fill in a subset of the rows for each country. Then use interpolation to fill in\n",
    "    the rest of the rows (so that they make sense as a progression over time)\n",
    "    \n",
    "    args:\n",
    "        filled_indicators_df -- unimputed, indicator dataframe with missing indicators filled in\n",
    "        n_rows -- how many vectors/rows for each country to use for KNN imp\n",
    "        n_knn_neighbors -- how many neighbors to consider for knn imp\n",
    "        knn_weights -- knn imputer paramter. 'uniform' by default, otherwise 'distance'\n",
    "        \n",
    "    returns:\n",
    "        X_train_imputed\n",
    "        X_test_imputed\n",
    "        y_train_imputed\n",
    "        y_test_imputed\n",
    "    '''\n",
    "\n",
    "    #check if passed dataframe has any columns with all nan values\n",
    "    if(X_features_filled.isnull().all().any() == True):\n",
    "        print(\"The dataframe contains columns with all nan values\")\n",
    "    \n",
    "    \n",
    "    #default knn_weights parameter\n",
    "    if(knn_weights in (['uniform', 'distance']) == False):\n",
    "        knn_weights == 'uniform'\n",
    "        \n",
    "    #1. Pick vectors for KNN imputation\n",
    "    n_rows -= 4 #since I'm already adding the first and last years\n",
    "\n",
    "    checker = True\n",
    "    \n",
    "    while(checker == True):\n",
    "        \n",
    "        n_rows += 3\n",
    "            \n",
    "        print(\"increased rows to: \", n_rows)\n",
    "        \n",
    "        grabbed = [years[i] for i in [0, -1]]\n",
    "\n",
    "        for i in range(1, n_rows):\n",
    "            grabbed.append(years[i*(36//n_rows)])\n",
    "\n",
    "        #2. Pool together into new dataframe and use knn imputation\n",
    "        df_for_knn_imputation = filled_indicators_df.loc[(slice(None), (grabbed)), :]\n",
    "        \n",
    "        #Check for all null columns (non imputable)\n",
    "        if(df_for_knn_imputation.isnull().all().any() == True):\n",
    "            print('----------- *! Warning !* -------------')\n",
    "            print('Some columns have all nan values, fetching another few rows')\n",
    "            print('total rows: ', df_for_knn_imputation.shape[0])\n",
    "            d[n_rows] = df_for_knn_imputation.isnull().sum(axis = 0)\n",
    "            \n",
    "            #find which columns have all nan values\n",
    "            #print(\"Count: \")\n",
    "            #print(df_for_knn_imputation.isnull().sum(axis = 0))\n",
    "            #nan_count = df_for_knn_imputation.isnull().sum(axis = 0)\n",
    "            #print(nan_count[nan_count == ])\n",
    "            #df_for_knn_imputation[df_for_knn_imputation.isnull().sum(axis = 0) == df_for_knn_imputation.shape[0]]\n",
    "\n",
    "        else:\n",
    "            checker = False\n",
    "    \n",
    "    print('Sucess: no columns have all nan values')\n",
    "    print(\"Years: \", grabbed)\n",
    "    \n",
    "    imputer = KNNImputer(n_neighbors = n_knn_neighbors, weights = knn_weights)\n",
    "    features_filled_knn = imputer.fit_transform(df_for_knn_imputation)\n",
    "\n",
    "    #3. Return to orignal df\n",
    "    \n",
    "    #4. perform time interpolation\n",
    "\n",
    "    return features_filled_knn"
   ]
  },
  {
   "cell_type": "markdown",
   "metadata": {},
   "source": [
    " ---------------------------\n",
    "\n",
    "\n",
    "# IMPUTATION\n",
    "Using TIME INTERPOLATION AND ITERATIVE IMP\n",
    "\n",
    "-----------------------------"
   ]
  },
  {
   "cell_type": "code",
   "execution_count": 16,
   "metadata": {},
   "outputs": [],
   "source": [
    "def interpolate_and_impute(dataframe, method = 'iterative', max_iter = 5, n_nearest_features = None):\n",
    "    \n",
    "    '''\n",
    "    Use time interpolation and either iterative or knn interpolation to fill missing values in df\n",
    "    \n",
    "    args:\n",
    "        dataframe -- df to be imputed\n",
    "        method    -- iterative or knn (iter by default)\n",
    "        max_iter  -- how many iterations of iterative imputation to perform\n",
    "        n_nearest_features -- how many features to use for multivariate iter imp, by default use all of them\n",
    "        \n",
    "    returns:\n",
    "        df_imputed\n",
    "    '''\n",
    "    \n",
    "    #this comes from the original csv read into variable 'data'\n",
    "    countries = data['Country Name'].unique()\n",
    "    \n",
    "    #by default, use all of the features for iterative imp\n",
    "    if(n_nearest_features == None):\n",
    "        n_nearest_features = int(dataframe.shape[1])\n",
    "\n",
    "    #This splits the unimputed df into seperate DFs by country, then interpolates them\n",
    "    forward_interpolated_dict = {\"X_features_filled_unimputed\": dataframe}   #first element is unimputed df\n",
    "    for country in countries:\n",
    "        forward_interpolated_dict[country] = dataframe.loc[country].interpolate(method = 'time', axis = 0, limit_direction = 'both')\n",
    "\n",
    "    #make sure country_col is correct length\n",
    "    range_amount = len(forward_interpolated_dict['Afghanistan'].index)\n",
    "\n",
    "    #append country name column for later regrouping by country (Afghanistan outside to have a starting df to concat to)\n",
    "    country_col = ['Afghanistan' for x in range(range_amount)]\n",
    "    interpolated_indicators_restitched = forward_interpolated_dict['Afghanistan']\n",
    "    interpolated_indicators_restitched['Country Name'] = country_col\n",
    "    \n",
    "    #TODO WArning: Make sure concat isn't creating any new NAN values 1    1  nan  nan\n",
    "    #                                                                nan  nan  1    1\n",
    "    \n",
    "\n",
    "    #add country name column foreach country, then concat to restitched df\n",
    "    for item in forward_interpolated_dict:\n",
    "        if(item != 'Afghanistan' and item != 'X_features_filled_unimputed'):\n",
    "            to_be_concat = forward_interpolated_dict[item]\n",
    "            to_be_concat['Country Name'] = [item for x in range(range_amount)]\n",
    "            interpolated_indicators_restitched = pd.concat([interpolated_indicators_restitched, to_be_concat], axis = 0)\n",
    "\n",
    "    #Recreate the original multiindex dataframe (ie X_features_filled) with interpolated values \n",
    "    index = interpolated_indicators_restitched.index\n",
    "    country_col_all = interpolated_indicators_restitched['Country Name']\n",
    "    interpolated_indicators_restitched.drop(columns = 'Country Name', inplace = True)\n",
    "     \n",
    "    if(method == 'iterative'):\n",
    "        imputer = IterativeImputer(max_iter = max_iter, n_nearest_features = n_nearest_features)\n",
    "        \n",
    "    elif (method == 'knn'):\n",
    "        imputer = KNNImputer()\n",
    "    \n",
    "    imputer.fit(interpolated_indicators_restitched)\n",
    "    dataframe_fully_interpd = imputer.transform(interpolated_indicators_restitched)\n",
    "    dataframe_fully_interpd = pd.DataFrame(dataframe_fully_interpd, columns = dataframe.columns, index = index)\n",
    "    dataframe_fully_interpd['Country Name'] = country_col_all\n",
    "    dataframe_fully_interpd = dataframe_fully_interpd.set_index(['Country Name', index])\n",
    "\n",
    "    return dataframe_fully_interpd"
   ]
  },
  {
   "cell_type": "code",
   "execution_count": 17,
   "metadata": {},
   "outputs": [],
   "source": [
    "def single_year_impute(dataframe, method = 'iterative', filler = 0):\n",
    "    '''\n",
    "    Use either iterative or knn interpolation to fill missing values in test or validation df\n",
    "    \n",
    "    args:\n",
    "        dataframe -- df to be imputed\n",
    "        method    -- iterative or knn (iter by default)\n",
    "        filler    -- replace all-nan columns with this value\n",
    "        \n",
    "        TODO: maybe find a bettersolution to the filler value\n",
    "        \n",
    "    returns:\n",
    "        df_imputed\n",
    "    '''\n",
    "    \n",
    "    #find all-nan columns\n",
    "    all_nan_cols_bool = dataframe.isnull().all().tolist()\n",
    "    all_nan_cols = list(dataframe.columns[all_nan_cols_bool])\n",
    "    \n",
    "    #replace these columns with filler values\n",
    "    dataframe[all_nan_cols] = dataframe[all_nan_cols].fillna(value = filler)\n",
    "    \n",
    "    #and now impute\n",
    "    \n",
    "    if (method == 'iterative'):\n",
    "        imputer = IterativeImputer()\n",
    "    \n",
    "    elif(method == 'knn'):\n",
    "        imputer = KNNImputer()\n",
    "    \n",
    "    imputer.fit(dataframe)\n",
    "    imputed_dataframe = imputer.transform(dataframe)\n",
    "    \n",
    "    return pd.DataFrame(imputed_dataframe, columns = dataframe.columns, index = dataframe.index)\n",
    "    "
   ]
  },
  {
   "cell_type": "markdown",
   "metadata": {},
   "source": [
    "----\n",
    "\n",
    "# MODEL EVALUATION HELPER FUNCTIONS\n",
    "\n",
    "----"
   ]
  },
  {
   "cell_type": "code",
   "execution_count": 18,
   "metadata": {},
   "outputs": [],
   "source": [
    "def compute_unimputed_cost(y_unimputed, y_hat, y_test_imputed, error_type):\n",
    "    '''\n",
    "    Get boolean array of non-nan values from the unimputed target df (y_unimputed), access corresponding \n",
    "    elements from y_hat and y_test, and compare these two df's, giving the actual performance\n",
    "    \n",
    "    args:\n",
    "        y_unimputed -- target dataframe before imputing\n",
    "        y_hat -- predicted target array \n",
    "        y_test_imputed -- from train test split (imputed)\n",
    "        error_type -- mean squared, absolute, etc\n",
    "    \n",
    "    returns:\n",
    "        cost \n",
    "    '''\n",
    "    \n",
    "    #This is for naiive forecsting since y_hat_naiive won't be a numpy array, but y_hat from models will be\n",
    "    if(type(y_hat) != np.ndarray):\n",
    "        y_hat = y_hat.values\n",
    "    \n",
    "    bool_array = y_unimputed.isna()\n",
    "    y_hat_filtered = y_hat[bool_array]\n",
    "    y_test_filtered = y_test_imputed.values[bool_array]\n",
    "    \n",
    "    assert(y_hat_filtered.shape == y_test_filtered.shape)\n",
    "    \n",
    "    cost = 0\n",
    "    \n",
    "    if(error_type == 'absolute'):\n",
    "        cost = mean_absolute_error(y_hat_filtered, y_test_filtered)\n",
    "    \n",
    "    elif(error_type == 'squared'):\n",
    "        cost = mean_squared_error(y_hat_filtered, y_test_filtered)\n",
    "    \n",
    "    return cost, y_hat_filtered, y_test_filtered\n"
   ]
  },
  {
   "cell_type": "markdown",
   "metadata": {},
   "source": [
    "----\n",
    "# PIPELINE (Under Construction)\n",
    "----\n",
    "\n",
    "Not currently packaged in one pipeline, still testing certain functions"
   ]
  },
  {
   "cell_type": "code",
   "execution_count": 19,
   "metadata": {},
   "outputs": [],
   "source": [
    "'''-----------------------------------------------------------------------------------------------------------\n",
    "\n",
    "                        Step 0: A - Get targets and indicators in seperate dataframes\n",
    "                                            and format indices\n",
    "\n",
    "                                B - Fill target dataframe with missing targets for\n",
    "                                                each country\n",
    "\n",
    "-----------------------------------------------------------------------------------------------------------'''\n",
    "\n",
    "#A\n",
    "\n",
    "#Pull data from original csv and seperate mdgs from indicators\n",
    "mdgs = submission.index\n",
    "mdgs_for_i2g_model = data_original.loc[mdgs]\n",
    "\n",
    "target_names = mdgs_for_i2g_model['Series Name'].unique()\n",
    "indicators_for_i2g_model = data_original[data_original['Series Name'].isin(target_names) == False]\n",
    "indicators_for_i2g_model.sort_values(by = ['Country Name', 'Series Name'])\n",
    "\n",
    "#Get data_original into proper DataFrame format for i2g \n",
    "\n",
    "#Create a multi index DataFrame for legibility\n",
    "X_features = indicators_for_i2g_model.set_index(['Country Name', 'Series Name'])\n",
    "X_features = X_features.drop(['Series Code'], axis = 1)\n",
    "X_features = X_features.sort_index()\n",
    "\n",
    "#make sure there is no overlap between mdgs and indicators\n",
    "assert(set(X_features.index.get_level_values(1)) & set(mdgs_for_i2g_model['Series Name'].values) == set())\n",
    "\n",
    "\n",
    "#B\n",
    "\n",
    "#create a goals df\n",
    "targets = mdgs_for_i2g_model.set_index(['Country Name', 'Series Name'])\n",
    "targets = targets.drop('Series Code', axis = 1)\n",
    "\n",
    "#!NOTE! - targets does not contain all countries as the submission does not require goal predictions for every country\n",
    "# try adding empties for missing countries, then try again and disregard missing countries\n",
    "\n",
    "#214 countries in the dataset\n",
    "countries = data['Country Name'].unique()\n",
    "\n",
    "countries_in_targets = targets.index.unique()\n",
    "missing_countries = set(countries) - set(countries_in_targets)\n",
    "\n",
    "years = X_features.columns\n",
    "\n",
    "nan_row = np.empty((1, len(years)))\n",
    "nan_row[:] = np.nan\n",
    "\n",
    "#for missing countries\n",
    "not_found = False\n",
    "\n",
    "#add missing targets to each country (this is similar enough to what I did for X_features missing indicators. maybe this can be a function?\n",
    "for country in countries:\n",
    "    \n",
    "    #get current country targets (this might fail if country isn't in mdgs)\n",
    "    try: \n",
    "        current = targets.loc[country]\n",
    "    except:\n",
    "        not_found = True\n",
    "\n",
    "    #which targets are missing?\n",
    "    if(not_found == False):\n",
    "        missing_targets = set(target_names) - set(current.index.tolist())\n",
    "    \n",
    "    #country wasn't in mdgs, so its missing all targets\n",
    "    else:\n",
    "        missing_targets = target_names\n",
    "        \n",
    "    #create nan dataframe for missing targets and append to targets df\n",
    "    missing_targets_indices = [np.array([country for x in range(len(missing_targets))]), np.array(list(missing_targets))]\n",
    "\n",
    "    nan_matrix = np.empty((len(missing_targets), len(years)))\n",
    "    nan_matrix[:] = np.nan\n",
    "\n",
    "    missing_targets_midf = pd.DataFrame(nan_matrix, index = missing_targets_indices, columns = years)\n",
    "    targets = targets.append(missing_targets_midf)\n",
    "    not_found = False\n",
    "    \n",
    "#fix append issue (so added vectors appear with grouped country)\n",
    "targets = targets.sort_index()\n",
    "\n",
    "#reformat years so they are in datetime format\n",
    "reformatted_cols = targets.columns.map(convert_to_datetime).tolist()\n",
    "targets.columns = reformatted_cols\n",
    "\n",
    "#essentially swapping the years columns with the 'Series Name' index. In a sense, transposing\n",
    "targets_stacked = targets.stack(dropna = False)\n",
    "targets = targets_stacked.unstack(1)"
   ]
  },
  {
   "cell_type": "code",
   "execution_count": 20,
   "metadata": {},
   "outputs": [
    {
     "name": "stdout",
     "output_type": "stream",
     "text": [
      "Number of indicators: 201\n"
     ]
    }
   ],
   "source": [
    "'''-----------------------------------------------------------------------------------------------------------\n",
    "\n",
    "                        Step 1: get only indicators from each country that are in \n",
    "                                        the most_common_indicator_list\n",
    "\n",
    "-----------------------------------------------------------------------------------------------------------'''\n",
    "\n",
    "most_common_indicators_list = get_indicators_for_model(190, indicators_for_i2g_model)\n",
    "X_features_most_common = X_features[X_features.index.isin(most_common_indicators_list, level=1)]\n",
    "\n",
    "print('Number of indicators: %d' % len(most_common_indicators_list))"
   ]
  },
  {
   "cell_type": "code",
   "execution_count": 21,
   "metadata": {},
   "outputs": [],
   "source": [
    "'''-----------------------------------------------------------------------------------------------------------\n",
    "\n",
    "                        Step 2: fill indicator dataframe with missing indicators\n",
    "                                            for each country\n",
    "\n",
    "-----------------------------------------------------------------------------------------------------------'''\n",
    "\n",
    "X_features_filled = add_missing_indicators(X_features_most_common, most_common_indicators_list)"
   ]
  },
  {
   "cell_type": "code",
   "execution_count": 22,
   "metadata": {},
   "outputs": [],
   "source": [
    "'''-----------------------------------------------------------------------------------------------------------\n",
    "\n",
    "                             Step 2.01: Normalize/Standardize the features\n",
    "\n",
    "-----------------------------------------------------------------------------------------------------------'''\n",
    "\n",
    "columns = X_features_filled.columns\n",
    "index = X_features_filled.index\n",
    "\n",
    "#Normalization\n",
    "scaler = MinMaxScaler()\n",
    "X_features_filled = scaler.fit_transform(X_features_filled)\n",
    "\n",
    "#Standardization\n",
    "#scaler = StandardScaler()\n",
    "#X_features_filled = scaler.fit_transform(X_features_filled)\n",
    "\n",
    "X_features_filled = pd.DataFrame(X_features_filled, columns = columns, index = index)\n"
   ]
  },
  {
   "cell_type": "code",
   "execution_count": 23,
   "metadata": {},
   "outputs": [
    {
     "name": "stdout",
     "output_type": "stream",
     "text": [
      "184 relevant features chosen\n"
     ]
    }
   ],
   "source": [
    "'''-----------------------------------------------------------------------------------------------------------\n",
    "\n",
    "                        Step 2.1: Pearson Correlation for Feature Selection\n",
    "\n",
    "-----------------------------------------------------------------------------------------------------------'''\n",
    "\n",
    "#This is calculated here in order to avoid leakage\n",
    "train_indices = X_features_filled.loc['Afghanistan'].index[0:34].tolist()\n",
    "\n",
    "relevance_dict = {}\n",
    "correlation_threshold = 0.6\n",
    "features_and_targets = pd.concat([X_features_filled.loc[pd.IndexSlice[:, train_indices], :], targets.loc[pd.IndexSlice[:, train_indices], :]], axis = 1, sort = False)\n",
    "\n",
    "#Correlation to targets\n",
    "cor = features_and_targets.corr()\n",
    "\n",
    "#add each goal's correlated features to the relevance_dict\n",
    "for i in range(7):    \n",
    "    cor_target = abs(cor[target_names[i]])\n",
    "    relevant = cor_target[cor_target >= correlation_threshold]\n",
    "    relevance_dict[target_names[i]] = relevant\n",
    "\n",
    "#TODO: Caution, Malaria Goal has 1.0 correlation with indicators that it maybe shouldn't \n",
    "\n",
    "#create a set of relevant features from each of the targets' correlation matrices\n",
    "relevant_features = set([])\n",
    "\n",
    "for goal in relevance_dict.keys():\n",
    "    #print(\"\\n----------  Relevant Features for: \", goal + ' -------------\\n')\n",
    "    #print(relevance_dict[goal])\n",
    "    relevant_features.update(relevance_dict[goal].index.tolist())\n",
    "\n",
    "#remove targets from relevant features\n",
    "relevant_features = relevant_features - set(target_names)\n",
    "\n",
    "print('%d relevant features chosen' % len(relevant_features))"
   ]
  },
  {
   "cell_type": "code",
   "execution_count": 24,
   "metadata": {},
   "outputs": [],
   "source": [
    "#for k,v in relevance_dict.items():\n",
    "#    print(k, '\\n', ' : ', v, '\\n')"
   ]
  },
  {
   "cell_type": "code",
   "execution_count": 25,
   "metadata": {},
   "outputs": [],
   "source": [
    "'''-----------------------------------------------------------------------------------------------------------\n",
    "\n",
    "                             Step 2.2: Training/Val/Test Split\n",
    "                             \n",
    "                    Creates 3 sets of combined Indicator-Goal Dataframes\n",
    "                                                          \n",
    "-----------------------------------------------------------------------------------------------------------'''\n",
    "'''\n",
    "x_train = [1972 - 2005], y_train = 2006 #created here\n",
    "x_valid = [1973 - 2006], y_valid = 2007 #created later by appending y_train to x_train\n",
    "x_test  = [1974 - 2007], y_test  = 2008 #created later by appending y_valid to x_train\n",
    "'''\n",
    "\n",
    "#update X_features_filled with relevant features\n",
    "X_features_filled_relevant = X_features_filled[relevant_features]\n",
    "\n",
    "#training set X\n",
    "train_indices_strings = list(map(lambda x: str(train_indices[x]), range(len(train_indices))))\n",
    "features_train_X = X_features_filled_relevant.loc[pd.IndexSlice[:, train_indices], :]\n",
    "targets_train_X = targets.loc[pd.IndexSlice[:, train_indices], :]\n",
    "X_train = pd.concat([features_train_X, targets_train_X], axis = 1)\n",
    "\n",
    "#training set Y/ Validation Set X (since I will append this to the train set when forecasting for 2007)\n",
    "y_train_year = '2006-01-01'\n",
    "features_train_y = X_features_filled_relevant.loc[pd.IndexSlice[:, [y_train_year]], :]\n",
    "targets_train_y = targets.loc[pd.IndexSlice[:, [y_train_year]], :]\n",
    "y_train = pd.concat([features_train_y, targets_train_y], axis = 1)\n",
    "\n",
    "#validation set Y/ Test Set X (this will be used when forecasting for 2008)\n",
    "y_valid_year = '2007-01-01'\n",
    "features_valid_y = X_features_filled_relevant.loc[pd.IndexSlice[:, [y_valid_year]], :]\n",
    "targets_valid_y = targets.loc[pd.IndexSlice[:, [y_valid_year]], :]\n",
    "y_valid = pd.concat([features_valid_y, targets_valid_y], axis = 1)"
   ]
  },
  {
   "cell_type": "code",
   "execution_count": 26,
   "metadata": {
    "scrolled": false
   },
   "outputs": [
    {
     "name": "stdout",
     "output_type": "stream",
     "text": [
      "Imputing X_train . . .\n"
     ]
    },
    {
     "name": "stderr",
     "output_type": "stream",
     "text": [
      "C:\\Users\\Yousef\\anaconda3\\lib\\site-packages\\sklearn\\impute\\_iterative.py:670: ConvergenceWarning: [IterativeImputer] Early stopping criterion not reached.\n",
      "  \" reached.\", ConvergenceWarning)\n"
     ]
    },
    {
     "name": "stdout",
     "output_type": "stream",
     "text": [
      "X_train imputation successful! \n",
      "\n",
      "Imputing single year dataframes 2006 and 2007 . . .\n"
     ]
    },
    {
     "name": "stderr",
     "output_type": "stream",
     "text": [
      "C:\\Users\\Yousef\\anaconda3\\lib\\site-packages\\sklearn\\impute\\_iterative.py:670: ConvergenceWarning: [IterativeImputer] Early stopping criterion not reached.\n",
      "  \" reached.\", ConvergenceWarning)\n",
      "C:\\Users\\Yousef\\anaconda3\\lib\\site-packages\\sklearn\\impute\\_iterative.py:670: ConvergenceWarning: [IterativeImputer] Early stopping criterion not reached.\n",
      "  \" reached.\", ConvergenceWarning)\n"
     ]
    },
    {
     "name": "stdout",
     "output_type": "stream",
     "text": [
      "All Sets Imputed Successfully!\n"
     ]
    }
   ],
   "source": [
    "'''-----------------------------------------------------------------------------------------------------------\n",
    "\n",
    "                                Step 2.3: IMPUTATION OF SETS\n",
    "\n",
    "-----------------------------------------------------------------------------------------------------------'''\n",
    "\n",
    "#Iterative Imputer parameters\n",
    "y_n_iter = 10\n",
    "x_n_iter = 5\n",
    "\n",
    "print('Imputing X_train . . .')\n",
    "X_train_imputed = interpolate_and_impute(X_train, max_iter = x_n_iter)\n",
    "\n",
    "print('X_train imputation successful! \\n')\n",
    "\n",
    "#TODO: For now, run iterative imputer on test and val sets until they converge since they are pretty small\n",
    "\n",
    "print('Imputing single year dataframes 2006 and 2007 . . .')\n",
    "y_train_imputed = single_year_impute(y_train)\n",
    "y_valid_imputed = single_year_impute(y_valid)\n",
    "\n",
    "#Make sure imputation was successful\n",
    "assert(X_train_imputed.isnull().any().any() == False)\n",
    "assert(y_train_imputed.isnull().any().any() == False)\n",
    "assert(y_valid_imputed.isnull().any().any() == False)\n",
    "\n",
    "print('All Sets Imputed Successfully!')"
   ]
  },
  {
   "cell_type": "markdown",
   "metadata": {},
   "source": [
    "---------------------\n",
    "# TABLEAU\n",
    "\n",
    "EXPORT DF TO EXCEL FOR TABLEAU DATa VIZ\n",
    "                                \n",
    "----"
   ]
  },
  {
   "cell_type": "code",
   "execution_count": 85,
   "metadata": {},
   "outputs": [],
   "source": [
    "#Analying Environmental Sustainability\n",
    "child_mortality_df = pd.concat([X_features_filled, targets], axis = 1)\n",
    "child_mortality_df = child_df[child_relevant_feats]    \n",
    "child_mortality_df_reset = child_mortality_df.reset_index()\n",
    "child_mortality_df_reset.rename(columns = {'level_1':'Year'}, inplace = True)"
   ]
  },
  {
   "cell_type": "code",
   "execution_count": 57,
   "metadata": {},
   "outputs": [],
   "source": [
    "relevant_features_plus_goals = (list(relevant_features)) + targets.columns.tolist()"
   ]
  },
  {
   "cell_type": "code",
   "execution_count": 88,
   "metadata": {},
   "outputs": [],
   "source": [
    "child_mortality_df_reset.to_excel(r'C:\\Users\\Yousef\\Desktop\\child_df.xlsx')"
   ]
  },
  {
   "cell_type": "markdown",
   "metadata": {},
   "source": [
    "------\n",
    "\n",
    "# MODELLING\n",
    "\n",
    "In this section I will develop models to forecast the UNMDGS (Targets) for each country. I will Use the years 2006 and 2007 for training and validation in order to fine tune my models, but the aim of the project is to forecast values for 2008 and 2012.\n",
    "\n",
    "---"
   ]
  },
  {
   "cell_type": "code",
   "execution_count": 27,
   "metadata": {},
   "outputs": [],
   "source": [
    "#keep track of costs across all models including baseline\n",
    "cost_bible = {}"
   ]
  },
  {
   "cell_type": "code",
   "execution_count": 28,
   "metadata": {},
   "outputs": [],
   "source": [
    "def print_cost_bible(year = None):\n",
    "    \n",
    "    #https://stackoverflow.com/questions/13515471/matplotlib-how-to-prevent-x-axis-labels-from-overlapping-each-other\n",
    "    if(year == None):\n",
    "        \n",
    "        fig, ax = plt.subplots()\n",
    "        ax.bar(*zip(*cost_bible.items()), width = 0.5)\n",
    "        fig.autofmt_xdate()\n",
    "        plt.show()\n",
    "\n",
    "        for key,value in cost_bible.items():\n",
    "            print(key, ' : ', value)\n",
    "    \n",
    "    else:\n",
    "        year_filter = list(filter(lambda key: year in key, cost_bible.keys())) \n",
    "        new_cost_bible = {k:v for k,v in cost_bible.items() if k in year_filter}\n",
    "        \n",
    "        fig, ax = plt.subplots()\n",
    "        ax.bar(*zip(*new_cost_bible.items()), width = 0.5)\n",
    "        fig.autofmt_xdate()\n",
    "        plt.show()\n",
    "\n",
    "        for key,value in new_cost_bible.items():\n",
    "            print(key, ' : ', value)"
   ]
  },
  {
   "cell_type": "markdown",
   "metadata": {},
   "source": [
    "# Baseline: \n",
    "Naive Forecasting: Use Last Year's Target Values"
   ]
  },
  {
   "cell_type": "code",
   "execution_count": 30,
   "metadata": {},
   "outputs": [],
   "source": [
    "#2006 forecast indicators including goals, cost of just goals\n",
    "y_hat_2006_naiive = X_train_imputed.loc[pd.IndexSlice[:, '2005'], :]\n",
    "mse_2006_naiive = mean_squared_error(y_hat_2006_naiive[target_names].values, y_train_imputed[target_names].values)\n",
    "mse_2006_naiive_unimputed, _, _ = compute_unimputed_cost(y_train[target_names], y_hat_2006_naiive[target_names], y_train_imputed[target_names], 'squared')\n",
    "\n",
    "#2007 forecast indicators including goals, cost of just goals\n",
    "y_hat_2007_naiive = y_train_imputed\n",
    "mse_2007_naiive = mean_squared_error(y_hat_2007_naiive[target_names].values, y_valid_imputed[target_names].values)\n",
    "mse_2007_naiive_unimputed, _, _ = compute_unimputed_cost(y_valid[target_names], y_hat_2007_naiive[target_names], y_valid_imputed[target_names], 'squared')\n",
    "\n",
    "#Store results\n",
    "cost_bible['2006_baseline_i2g_imputed'] = mse_2006_naiive\n",
    "cost_bible['2006_baseline_i2g_unimputed'] = mse_2006_naiive_unimputed\n",
    "cost_bible['2007_baseline_i2g_imputed'] = mse_2007_naiive\n",
    "cost_bible['2007_baseline_i2g_unimputed'] = mse_2007_naiive_unimputed\n",
    "\n",
    "#Now get error for just naiively forecasting entire series of indicators, to compare to CNN B\n",
    "mse_2006_indicator_imp = mean_squared_error(y_hat_2006_naiive.values, y_train_imputed.values)\n",
    "mse_2006_indicator_unimp, _, _ = compute_unimputed_cost(y_train, y_hat_2006_naiive, y_train_imputed, 'squared')\n",
    "\n",
    "mse_2007_indicator_imp = mean_squared_error(y_hat_2007_naiive.values, y_valid_imputed.values)\n",
    "mse_2007_indicator_unimp, _, _ = compute_unimputed_cost(y_valid, y_hat_2007_naiive, y_valid_imputed, 'squared')\n",
    "\n",
    "#Store results\n",
    "cost_bible['2006_baseline_i2i_imputed'] = mse_2006_indicator_imp\n",
    "cost_bible['2006_baseline_i2i_unimputed'] = mse_2006_indicator_unimp\n",
    "cost_bible['2007_baseline_i2i_imputed'] = mse_2007_indicator_imp\n",
    "cost_bible['2007_baseline_i2i_unimputed'] = mse_2007_indicator_unimp"
   ]
  },
  {
   "cell_type": "code",
   "execution_count": 68,
   "metadata": {},
   "outputs": [],
   "source": [
    "model = Sequential()\n",
    "model.add(Dense(20, input_shape = (X_fcc.shape[1], 1)))\n",
    "model.add(Dense(7))\n",
    "#reshape inputs to 3D [samples, timestamps, features] = [no countries, years in set (34 for training), relevant features]\n",
    "#X_train_imputed_reshaped = X_train_imputed.values.reshape((len(countries), len(train_indices), X_train_imputed.shape[1]))\n",
    "#X_val_imputed_reshaped = X_train_imputed.values.reshape((len(countries), 1, X_train_imputed.shape[1]))\n",
    "#X_test_imputed_reshaped = X_train_imputed.values.reshape((len(countries), 1, X_train_imputed.shape[1]))\n",
    "\n",
    "#Network Archtecture\n",
    "model = Sequential()\n",
    "model.add(LSTM(50))#, input_shape = (X_train_imputed_reshaped[1], X_train_imputed_reshaped[2]))\n",
    "model.add(Dense(7))\n",
    "model.compile(loss = 'mae', optimizer = 'adam')"
   ]
  },
  {
   "cell_type": "markdown",
   "metadata": {},
   "source": [
    "# METHOD: 1D CNN"
   ]
  },
  {
   "cell_type": "markdown",
   "metadata": {},
   "source": [
    "# A: Multivariate Forecasting -> Goal Prediction\n",
    "This model acts as a baseline for the next CNN models. It takes 34-year samples for each countrys indicators, and predicts the values for the indicators the following year, then predicts the UNMDGs (targets) for that year"
   ]
  },
  {
   "cell_type": "code",
   "execution_count": 34,
   "metadata": {},
   "outputs": [
    {
     "name": "stdout",
     "output_type": "stream",
     "text": [
      "Model: \"Forecast Goals From Previous Years' Indicators\"\n",
      "_________________________________________________________________\n",
      "Layer (type)                 Output Shape              Param #   \n",
      "=================================================================\n",
      "conv1d_1 (Conv1D)            (None, 34, 191)           255558    \n",
      "_________________________________________________________________\n",
      "max_pooling1d_1 (MaxPooling1 (None, 11, 191)           0         \n",
      "_________________________________________________________________\n",
      "flatten_1 (Flatten)          (None, 2101)              0         \n",
      "_________________________________________________________________\n",
      "dense_1 (Dense)              (None, 1910)              4014820   \n",
      "_________________________________________________________________\n",
      "dense_2 (Dense)              (None, 191)               365001    \n",
      "_________________________________________________________________\n",
      "dense_3 (Dense)              (None, 7)                 1344      \n",
      "=================================================================\n",
      "Total params: 4,636,723\n",
      "Trainable params: 4,636,723\n",
      "Non-trainable params: 0\n",
      "_________________________________________________________________\n"
     ]
    }
   ],
   "source": [
    "model.name = \"Forecast Goals From Previous Years' Indicators\"\n",
    "model.name\n",
    "model.summary()"
   ]
  },
  {
   "cell_type": "code",
   "execution_count": 32,
   "metadata": {},
   "outputs": [],
   "source": [
    "CNN_hyperparam_to_loss_dict = {'params':('filters', 'ksize', 'psize', 'epochs', 'd1out')}"
   ]
  },
  {
   "cell_type": "code",
   "execution_count": 33,
   "metadata": {
    "scrolled": true
   },
   "outputs": [],
   "source": [
    "#for reproducible results\n",
    "from numpy.random import seed\n",
    "seed(1)\n",
    "\n",
    "tf.random.set_seed(2)\n",
    "\n",
    "#Hyperparams\n",
    "n_filters = int(X_train_imputed.shape[1])\n",
    "kernel_size = 7\n",
    "pool_size = 3\n",
    "epochs = 120\n",
    "\n",
    "#input dims\n",
    "n_samples = 214\n",
    "n_steps = X_train_imputed.loc['Afghanistan'].shape[0]\n",
    "#n_features = X_train_imputed.shape[1]\n",
    "n_features = X_train_imputed.shape[1]\n",
    "\n",
    "dense_1_output = int(n_features * 10) #For handling vector from convolution\n",
    "dense_2_output = int(n_features)  #Forecast next years indicators \n",
    "dense_3_output = int(n_features)  #Hidden Layer\n",
    "\n",
    "#predicting all goals with same model: 7\n",
    "dense_4_output = 7\n",
    "\n",
    "#shape of inputs(no_countries x n_years x n_relevant_features)\n",
    "x_shape = (n_samples, n_steps, n_features)\n",
    "\n",
    "#shape of outputs(no_countries x no_goals)\n",
    "y_shape = (n_samples, 7)\n",
    "\n",
    "#for tuning\n",
    "h_params = [n_filters, kernel_size, pool_size, epochs, dense_1_output]\n",
    "\n",
    "#this isn't the complete df for the year 2006, but instead only the goals for that year\n",
    "target_names = targets.columns\n",
    "y_train_imputed_reshaped_CNN = np.array(y_train_imputed[target_names].values).reshape((n_samples, 7))\n",
    "X_train_imputed_reshaped_CNN = np.array(X_train_imputed.values).reshape((n_samples, n_steps, n_features))\n",
    "\n",
    "#add a callback to stop training when no improvement in loss\n",
    "early_stop = tf.keras.callbacks.EarlyStopping(monitor = 'loss', patience = 15)\n",
    "\n",
    "#CNN model architecture\n",
    "model = Sequential()\n",
    "model.add(Conv1D(padding = 'same', filters = n_filters, kernel_size = kernel_size, activation = 'relu', \n",
    "                input_shape = (n_steps, n_features)))\n",
    "model.add(MaxPooling1D(pool_size = pool_size))\n",
    "model.add(Flatten())\n",
    "model.add(Dense(dense_1_output, activation = 'relu'))\n",
    "model.add(Dense(dense_2_output, activation = 'sigmoid'))\n",
    "#model.add(Dense(dense_3_output, activation = 'sigmoid'))\n",
    "model.add(Dense(dense_4_output))\n",
    "model.compile(optimizer = 'adam', loss = 'mse')\n",
    "\n",
    "history = model.fit(X_train_imputed_reshaped_CNN, y_train_imputed_reshaped_CNN, epochs = epochs, callbacks = [early_stop], verbose = False)\n",
    "\n",
    "#store results\n",
    "listhist = np.array(history.history['loss'])\n",
    "CNN_hyperparam_to_loss_dict[listhist[-1]] = h_params"
   ]
  },
  {
   "cell_type": "code",
   "execution_count": 35,
   "metadata": {
    "scrolled": true
   },
   "outputs": [
    {
     "data": {
      "text/plain": [
       "{'params': ('filters', 'ksize', 'psize', 'epochs', 'd1out'),\n",
       " 0.00018992344821611786: [191, 7, 3, 120, 1910]}"
      ]
     },
     "execution_count": 35,
     "metadata": {},
     "output_type": "execute_result"
    }
   ],
   "source": [
    "CNN_hyperparam_to_loss_dict"
   ]
  },
  {
   "cell_type": "code",
   "execution_count": 36,
   "metadata": {},
   "outputs": [
    {
     "name": "stdout",
     "output_type": "stream",
     "text": [
      "Stopped after 120 / 120 iterations\n"
     ]
    },
    {
     "data": {
      "text/plain": [
       "[<matplotlib.lines.Line2D at 0xb426a45388>]"
      ]
     },
     "execution_count": 36,
     "metadata": {},
     "output_type": "execute_result"
    },
    {
     "data": {
      "image/png": "[encoded data removed]",
      "text/plain": [
       "<Figure size 432x288 with 1 Axes>"
      ]
     },
     "metadata": {
      "needs_background": "light"
     },
     "output_type": "display_data"
    }
   ],
   "source": [
    "iters = len(history.history['loss'])\n",
    "x = [i for i in range(len(history.history['loss']))]\n",
    "print(\"Stopped after %i / %i iterations\" % (iters, epochs))\n",
    "\n",
    "window = iters - 10\n",
    "plt.plot(x[100:], listhist[100:])"
   ]
  },
  {
   "cell_type": "code",
   "execution_count": 37,
   "metadata": {},
   "outputs": [
    {
     "name": "stdout",
     "output_type": "stream",
     "text": [
      "MSE for Test Set:  0.0009715657364550112\n",
      "Unimputed MSE for Test Set:  0.0013686048461690997\n",
      "\n",
      "MSE for Train Set:  0.00017579221618766453\n",
      "Unimputed MSE for Train Set:  0.0001631157083959856\n"
     ]
    }
   ],
   "source": [
    "#Create a validation set and predict for 2007\n",
    "\n",
    "#Get a training dataframe for years 1973-2005\n",
    "predict_indices = X_features_filled.loc['Afghanistan'].index[1:34].tolist()\n",
    "X_val_CNN = X_train_imputed.loc[pd.IndexSlice[:, predict_indices], :]\n",
    "assert(X_val_CNN.isna().any().any() == False)\n",
    "\n",
    "#append 2006 to validation set\n",
    "X_val_CNN = pd.concat([X_val_CNN, y_train_imputed], axis = 0)\n",
    "X_val_CNN = X_val_CNN.sort_index()\n",
    "assert(X_val_CNN.isna().any().any() == False)\n",
    "\n",
    "#reshape and make prediction\n",
    "x_val_CNN_reshaped = np.array(X_val_CNN.values).reshape(x_shape)\n",
    "y_hat = model.predict(x_val_CNN_reshaped)\n",
    "\n",
    "mse_test = mean_squared_error(y_hat, y_valid_imputed[target_names])\n",
    "unim_cost, y_hat_filtered, y_test_filt = compute_unimputed_cost(y_valid[target_names], y_hat, y_valid_imputed[target_names], 'squared')\n",
    "\n",
    "#Store results\n",
    "cost_bible['CNN_i2g_2007_imp'] = mse_test\n",
    "cost_bible['CNN_i2g_2007_unimp'] = unim_cost\n",
    "\n",
    "print('MSE for Test Set: ', mse_test)\n",
    "print('Unimputed MSE for Test Set: ', unim_cost)\n",
    "\n",
    "#Compare to prediction on training data\n",
    "y_hat_train = model.predict(X_train_imputed_reshaped_CNN)\n",
    "mse_train = mean_squared_error(y_hat_train, y_train_imputed[target_names])\n",
    "unim_cost_train, y_hat_filtered_train, y_test_filt_train = compute_unimputed_cost(y_train[target_names], y_hat_train, y_train_imputed[target_names], 'squared')\n",
    "\n",
    "#Store results\n",
    "cost_bible['CNN_i2g_2006_imp'] = mse_train\n",
    "cost_bible['CNN_i2g_2006_unimp'] = unim_cost_train\n",
    "\n",
    "print('\\nMSE for Train Set: ', mse_train)\n",
    "print('Unimputed MSE for Train Set: ', unim_cost_train)\n",
    "\n"
   ]
  },
  {
   "cell_type": "code",
   "execution_count": 38,
   "metadata": {},
   "outputs": [
    {
     "data": {
      "image/png": "[encoded data removed]",
      "text/plain": [
       "<Figure size 432x288 with 1 Axes>"
      ]
     },
     "metadata": {
      "needs_background": "light"
     },
     "output_type": "display_data"
    },
    {
     "name": "stdout",
     "output_type": "stream",
     "text": [
      "2007_baseline_i2g_imputed  :  0.001000516246821825\n",
      "2007_baseline_i2g_unimputed  :  0.0013909040481268225\n",
      "2007_baseline_i2i_imputed  :  0.001440421770882839\n",
      "2007_baseline_i2i_unimputed  :  0.00511433783460377\n",
      "CNN_i2g_2007_imp  :  0.0009715657364550112\n",
      "CNN_i2g_2007_unimp  :  0.0013686048461690997\n"
     ]
    }
   ],
   "source": [
    "print_cost_bible('2007')"
   ]
  },
  {
   "cell_type": "markdown",
   "metadata": {},
   "source": [
    "# A 1/2: Multivariate Forecasting, Hold The Prediction"
   ]
  },
  {
   "cell_type": "code",
   "execution_count": 39,
   "metadata": {},
   "outputs": [],
   "source": [
    "A_p5_loss = {'params':('filters', 'ksize', 'psize', 'epochs', 'd1out')}"
   ]
  },
  {
   "cell_type": "code",
   "execution_count": 192,
   "metadata": {},
   "outputs": [
    {
     "name": "stdout",
     "output_type": "stream",
     "text": [
      "Model: \"sequential_16\"\n",
      "_________________________________________________________________\n",
      "Layer (type)                 Output Shape              Param #   \n",
      "=================================================================\n",
      "conv1d_16 (Conv1D)           (None, 34, 46)            14858     \n",
      "_________________________________________________________________\n",
      "max_pooling1d_16 (MaxPooling (None, 11, 46)            0         \n",
      "_________________________________________________________________\n",
      "flatten_16 (Flatten)         (None, 506)               0         \n",
      "_________________________________________________________________\n",
      "dense_77 (Dense)             (None, 460)               233220    \n",
      "_________________________________________________________________\n",
      "dense_78 (Dense)             (None, 46)                21206     \n",
      "_________________________________________________________________\n",
      "dense_79 (Dense)             (None, 7)                 329       \n",
      "=================================================================\n",
      "Total params: 269,613\n",
      "Trainable params: 269,613\n",
      "Non-trainable params: 0\n",
      "_________________________________________________________________\n"
     ]
    }
   ],
   "source": [
    "model.summary()"
   ]
  },
  {
   "cell_type": "code",
   "execution_count": 40,
   "metadata": {},
   "outputs": [],
   "source": [
    "#for reproducible results\n",
    "from numpy.random import seed\n",
    "seed(1)\n",
    "\n",
    "tf.random.set_seed(2)\n",
    "\n",
    "#Hyperparams\n",
    "n_filters = int(X_train_imputed.shape[1])\n",
    "kernel_size = 7\n",
    "pool_size = 3\n",
    "epochs = 120\n",
    "\n",
    "#input dims\n",
    "n_samples = 214\n",
    "n_steps = X_train_imputed.loc['Afghanistan'].shape[0]\n",
    "n_features = X_train_imputed.shape[1]\n",
    "\n",
    "dense_1_output = int(n_features * 10) #For handling vector from convolution\n",
    "dense_2_output = int(n_features)  #Forecast next years indicators \n",
    "\n",
    "#shape of inputs(no_countries x n_years x n_relevant_features)\n",
    "x_shape = (n_samples, n_steps, n_features)\n",
    "\n",
    "#shape of outputs(no_countries x no_goals)\n",
    "y_shape = (n_samples, n_features)\n",
    "\n",
    "#for tuning\n",
    "h_params = [n_filters, kernel_size, pool_size, epochs, dense_1_output]\n",
    "\n",
    "#this isn't the complete df for the year 2006, but instead only the goals for that year\n",
    "target_names = targets.columns\n",
    "y_train_imputed_reshaped_CNN = np.array(y_train_imputed.values).reshape((n_samples, n_features))\n",
    "X_train_imputed_reshaped_CNN = np.array(X_train_imputed.values).reshape((n_samples, n_steps, n_features))\n",
    "\n",
    "#add a callback to stop training when no improvement in loss\n",
    "early_stop = tf.keras.callbacks.EarlyStopping(monitor = 'loss', patience = 15)\n",
    "\n",
    "#CNN model architecture\n",
    "model = Sequential()\n",
    "model.add(Conv1D(padding = 'same', filters = n_filters, kernel_size = kernel_size, activation = 'relu', \n",
    "                input_shape = (n_steps, n_features)))\n",
    "model.add(MaxPooling1D(pool_size = pool_size))\n",
    "model.add(Flatten())\n",
    "model.add(Dense(dense_1_output, activation = 'relu'))\n",
    "model.add(Dense(int(dense_2_output * 4) , activation = 'relu'))\n",
    "model.add(Dense(int(dense_2_output * 2) , activation = 'sigmoid'))\n",
    "model.add(Dense(dense_2_output))\n",
    "model.compile(optimizer = 'adam', loss = 'mse')\n",
    "\n",
    "history = model.fit(X_train_imputed_reshaped_CNN, y_train_imputed_reshaped_CNN, epochs = epochs, callbacks = [early_stop], verbose = False)\n",
    "\n",
    "#store results\n",
    "listhist = np.array(history.history['loss'])\n",
    "A_p5_loss[listhist[-1]] = h_params"
   ]
  },
  {
   "cell_type": "code",
   "execution_count": 41,
   "metadata": {},
   "outputs": [
    {
     "data": {
      "text/plain": [
       "{'params': ('filters', 'ksize', 'psize', 'epochs', 'd1out'),\n",
       " 0.0005940539755849777: [191, 7, 3, 120, 1910]}"
      ]
     },
     "execution_count": 41,
     "metadata": {},
     "output_type": "execute_result"
    }
   ],
   "source": [
    "A_p5_loss"
   ]
  },
  {
   "cell_type": "code",
   "execution_count": 42,
   "metadata": {},
   "outputs": [
    {
     "name": "stdout",
     "output_type": "stream",
     "text": [
      "Stopped after 120 / 120 iterations\n"
     ]
    },
    {
     "data": {
      "text/plain": [
       "[<matplotlib.lines.Line2D at 0xb430843d08>]"
      ]
     },
     "execution_count": 42,
     "metadata": {},
     "output_type": "execute_result"
    },
    {
     "data": {
      "image/png": "[encoded data removed]",
      "text/plain": [
       "<Figure size 432x288 with 1 Axes>"
      ]
     },
     "metadata": {
      "needs_background": "light"
     },
     "output_type": "display_data"
    }
   ],
   "source": [
    "iters = len(history.history['loss'])\n",
    "x = [i for i in range(len(history.history['loss']))]\n",
    "print(\"Stopped after %i / %i iterations\" % (iters, epochs))\n",
    "\n",
    "window = iters - 10\n",
    "plt.plot(x[:], listhist[:])"
   ]
  },
  {
   "cell_type": "code",
   "execution_count": 43,
   "metadata": {},
   "outputs": [],
   "source": [
    "#Create a validation set and predict for 2007\n",
    "\n",
    "#Get a training dataframe for years 1973-2005\n",
    "predict_indices = X_features_filled.loc['Afghanistan'].index[1:34].tolist()\n",
    "X_val_CNN = X_train_imputed.loc[pd.IndexSlice[:, predict_indices], :]\n",
    "assert(X_val_CNN.isna().any().any() == False)\n",
    "\n",
    "#append 2006 to validation set\n",
    "X_val_CNN = pd.concat([X_val_CNN, y_train_imputed], axis = 0)\n",
    "X_val_CNN = X_val_CNN.sort_index()\n",
    "assert(X_val_CNN.isna().any().any() == False)\n",
    "\n",
    "#reshape and make prediction\n",
    "x_val_CNN_reshaped = np.array(X_val_CNN.values).reshape(x_shape)\n",
    "y_hat = model.predict(x_val_CNN_reshaped)\n",
    "y_hat_restructured = pd.DataFrame(y_hat, columns = y_valid.columns)\n",
    "\n",
    "#On just goals\n",
    "mse_test = mean_squared_error(y_hat_restructured[target_names], y_valid_imputed[target_names])\n",
    "unim_cost, y_hat_filtered, y_test_filt = compute_unimputed_cost(y_valid[target_names], y_hat_restructured[target_names], y_valid_imputed[target_names], 'squared')\n",
    "\n",
    "cost_bible['CNN_2007_i2i_at_g'] = mse_test\n",
    "cost_bible['CNN_2007_i2i_at_g_unimp'] = unim_cost\n",
    "\n",
    "#on indicators + goals\n",
    "mse_test = mean_squared_error(y_hat, y_valid_imputed)\n",
    "unim_cost, _, _ = compute_unimputed_cost(y_valid, y_hat_restructured, y_valid_imputed, 'squared')\n",
    "\n",
    "cost_bible['CNN_2007_i2i'] = mse_test\n",
    "cost_bible['CNN_2007_i2i_unimp'] = unim_cost\n",
    "\n",
    "#Compare to prediction on training data\n",
    "y_hat_train = model.predict(X_train_imputed_reshaped_CNN)\n",
    "y_hat_train_restructured = pd.DataFrame(y_hat_train, columns = y_valid.columns)\n",
    "\n",
    "#on just goals\n",
    "mse_train = mean_squared_error(y_hat_train_restructured[target_names], y_train_imputed[target_names])\n",
    "unim_cost_train, y_hat_filtered_train, y_test_filt_train = compute_unimputed_cost(y_train[target_names], y_hat_train_restructured[target_names], y_train_imputed[target_names], 'squared')\n",
    "\n",
    "cost_bible['CNN_2006_i2i_at_g'] = mse_test\n",
    "cost_bible['CNN_2006_i2i_at_g_unimp'] = unim_cost\n",
    "\n",
    "#on indicators + goals\n",
    "mse_test = mean_squared_error(y_hat, y_train_imputed)\n",
    "unim_cost, _, _ = compute_unimputed_cost(y_train, y_hat_train_restructured, y_train_imputed, 'squared')\n",
    "\n",
    "cost_bible['CNN_2006_i2i'] = mse_test\n",
    "cost_bible['CNN_2006_i2i_unimp'] = unim_cost"
   ]
  },
  {
   "cell_type": "code",
   "execution_count": 44,
   "metadata": {},
   "outputs": [
    {
     "data": {
      "image/png": "[encoded data removed]",
      "text/plain": [
       "<Figure size 432x288 with 1 Axes>"
      ]
     },
     "metadata": {
      "needs_background": "light"
     },
     "output_type": "display_data"
    },
    {
     "name": "stdout",
     "output_type": "stream",
     "text": [
      "2007_baseline_i2g_imputed  :  0.001000516246821825\n",
      "2007_baseline_i2g_unimputed  :  0.0013909040481268225\n",
      "2007_baseline_i2i_imputed  :  0.001440421770882839\n",
      "2007_baseline_i2i_unimputed  :  0.00511433783460377\n",
      "CNN_i2g_2007_imp  :  0.0009715657364550112\n",
      "CNN_i2g_2007_unimp  :  0.0013686048461690997\n",
      "CNN_2007_i2i_at_g  :  0.0012436067132316814\n",
      "CNN_2007_i2i_at_g_unimp  :  0.001531769612665667\n",
      "CNN_2007_i2i  :  0.001865480924557836\n",
      "CNN_2007_i2i_unimp  :  0.00500465082959068\n"
     ]
    }
   ],
   "source": [
    "print_cost_bible('2007')"
   ]
  },
  {
   "cell_type": "markdown",
   "metadata": {},
   "source": [
    "# B: Multiple Output \n",
    "The indicators are forecasted by one CNN model, then this is fed into a seperate dense layer for each goal"
   ]
  },
  {
   "cell_type": "code",
   "execution_count": 28,
   "metadata": {},
   "outputs": [],
   "source": [
    "multi_output_cnn_loss_dict = {}"
   ]
  },
  {
   "cell_type": "code",
   "execution_count": 29,
   "metadata": {},
   "outputs": [],
   "source": [
    "#y_train_output has to be split into 7 different arrays \n",
    "seperate_y_shape = (n_samples, 1)\n",
    "y1 = y_train_imputed_reshaped_CNN[:, 0].reshape(seperate_y_shape)\n",
    "y2 = y_train_imputed_reshaped_CNN[:, 1].reshape(seperate_y_shape)\n",
    "y3 = y_train_imputed_reshaped_CNN[:, 2].reshape(seperate_y_shape)\n",
    "y4 = y_train_imputed_reshaped_CNN[:, 3].reshape(seperate_y_shape)\n",
    "y5 = y_train_imputed_reshaped_CNN[:, 4].reshape(seperate_y_shape)\n",
    "y6 = y_train_imputed_reshaped_CNN[:, 5].reshape(seperate_y_shape)\n",
    "y7 = y_train_imputed_reshaped_CNN[:, 6].reshape(seperate_y_shape)"
   ]
  },
  {
   "cell_type": "code",
   "execution_count": 30,
   "metadata": {},
   "outputs": [],
   "source": [
    "#CNN model up to dense with output = n_indicators\n",
    "visible = Input(shape = (n_steps, n_features))\n",
    "cnn = Conv1D(padding = 'same', filters = n_filters, kernel_size = kernel_size, activation = 'relu')(visible)\n",
    "cnn = Flatten()(cnn)\n",
    "cnn = Dense(dense_1_output, activation = 'relu')(cnn)\n",
    "cnn = Dense(dense_2_output, activation = 'relu')(cnn)\n",
    "cnn = Dense(dense_2_output, activation = 'sigmoid')(cnn)\n",
    "\n",
    "#seperate outputs for each goal\n",
    "goal_1_out = Dense(1)(cnn)\n",
    "goal_2_out = Dense(1)(cnn)\n",
    "goal_3_out = Dense(1)(cnn)\n",
    "goal_4_out = Dense(1)(cnn)\n",
    "goal_5_out = Dense(1)(cnn)\n",
    "goal_6_out = Dense(1)(cnn)\n",
    "goal_7_out = Dense(1)(cnn)\n",
    "\n",
    "#bring it all together\n",
    "model = Model(inputs = visible, outputs = [goal_1_out, goal_2_out, goal_3_out, goal_4_out, goal_5_out, goal_6_out, goal_7_out])\n",
    "model.compile(optimizer = 'adam', loss = 'mse')"
   ]
  },
  {
   "cell_type": "code",
   "execution_count": 31,
   "metadata": {},
   "outputs": [],
   "source": [
    "#train model\n",
    "multi_output_history = model.fit(X_train_imputed_reshaped_CNN, [y1, y2, y3, y4, y5, y6, y7], epochs = 150, callbacks = [early_stop], verbose = False)\n",
    "\n",
    "#store results\n",
    "listhist = np.array(multi_output_history.history['loss'])\n",
    "multi_output_cnn_loss_dict[listhist[-1]] = 'special note2'"
   ]
  },
  {
   "cell_type": "code",
   "execution_count": 32,
   "metadata": {},
   "outputs": [
    {
     "data": {
      "text/plain": [
       "{0.0011254045318063591: 'special note2'}"
      ]
     },
     "execution_count": 32,
     "metadata": {},
     "output_type": "execute_result"
    }
   ],
   "source": [
    "multi_output_cnn_loss_dict"
   ]
  },
  {
   "cell_type": "code",
   "execution_count": 33,
   "metadata": {},
   "outputs": [
    {
     "name": "stdout",
     "output_type": "stream",
     "text": [
      "Stopped after 133 / 120 iterations\n"
     ]
    },
    {
     "data": {
      "text/plain": [
       "[<matplotlib.lines.Line2D at 0x749aa6a388>]"
      ]
     },
     "execution_count": 33,
     "metadata": {},
     "output_type": "execute_result"
    },
    {
     "data": {
      "image/png": "[encoded data removed]",
      "text/plain": [
       "<Figure size 432x288 with 1 Axes>"
      ]
     },
     "metadata": {
      "needs_background": "light"
     },
     "output_type": "display_data"
    }
   ],
   "source": [
    "iters = len(multi_output_history.history['loss'])\n",
    "x = [i for i in range(len(multi_output_history.history['loss']))]\n",
    "print(\"Stopped after %i / %i iterations\" % (iters, epochs))\n",
    "\n",
    "window = iters - 10\n",
    "plt.plot(x[:], listhist[:])"
   ]
  },
  {
   "cell_type": "code",
   "execution_count": 34,
   "metadata": {},
   "outputs": [
    {
     "name": "stdout",
     "output_type": "stream",
     "text": [
      "MSE for Test Set:  0.30978829660550194\n",
      "Unimputed MSE for Test Set:  0.30219502440868684\n",
      "\n",
      "MSE for Train Set:  0.310328017077292\n",
      "Unimputed MSE for Train Set:  0.33283135283308163\n"
     ]
    }
   ],
   "source": [
    "y_hat = model.predict(x_val_CNN_reshaped)\n",
    "y_hat = np.array(y_hat).reshape(214, 7)\n",
    "\n",
    "mse_test = mean_squared_error(y_hat, y_valid_imputed[target_names])\n",
    "unim_cost, y_hat_filtered, y_test_filt = compute_unimputed_cost(y_valid[target_names], y_hat, y_valid_imputed[target_names], 'squared')\n",
    "\n",
    "print('MSE for Test Set: ', mse_test)\n",
    "print('Unimputed MSE for Test Set: ', unim_cost)\n",
    "\n",
    "#Compare to prediction on training data\n",
    "y_hat_train = model.predict(X_train_imputed_reshaped_CNN)\n",
    "y_hat_train = np.array(y_hat_train).reshape(214, 7)\n",
    "\n",
    "mse_train = mean_squared_error(y_hat_train, y_train_imputed[target_names])\n",
    "\n",
    "unim_cost_train, y_hat_filtered_train, y_test_filt_train = compute_unimputed_cost(y_train[target_names], y_hat_train, y_train_imputed[target_names], 'squared')\n",
    "\n",
    "print('\\nMSE for Train Set: ', mse_train)\n",
    "print('Unimputed MSE for Train Set: ', unim_cost_train)"
   ]
  },
  {
   "cell_type": "markdown",
   "metadata": {},
   "source": [
    "# Method 2: LSTM"
   ]
  },
  {
   "cell_type": "code",
   "execution_count": null,
   "metadata": {},
   "outputs": [],
   "source": []
  },
  {
   "cell_type": "markdown",
   "metadata": {},
   "source": [
    "-----\n",
    "------\n",
    "----\n",
    "# Statistical Analysis From Early Stages \n",
    "\n",
    "These models were built to map indicators to goals without making use of the nature of time series data. They are not useless, though currently not being used. I have future plans. . ."
   ]
  },
  {
   "cell_type": "code",
   "execution_count": null,
   "metadata": {},
   "outputs": [],
   "source": [
    "'''------------------------------------------------------------------------------------------------------------------------\n",
    "\n",
    "                                    Step 5.1: MultiOutput Regression\n",
    "\n",
    "-------------------------------------------------------------------------------------------------------------------------'''\n",
    "\n",
    "from sklearn.neighbors import KNeighborsRegressor\n",
    "from sklearn.linear_model import LinearRegression\n",
    "from sklearn.ensemble import RandomForestRegressor\n",
    "from sklearn.tree import DecisionTreeRegressor\n",
    "\n",
    "from sklearn.metrics import mean_squared_error\n",
    "from sklearn.metrics import mean_absolute_error\n",
    "\n",
    "#Get a list of multioutput regressors\n",
    "mo_regressors = [(\"KNeighbors\", KNeighborsRegressor()), (\"Linear Regression\", LinearRegression()), (\"Random Forest\", RandomForestRegressor(n_estimators = 25))]\n",
    "prediction_dict = {}\n",
    "cost_dict = {}\n",
    "\n",
    "print(\"Starting MultiOutput Regression with multiple models . . .\")\n",
    "\n",
    "#Fit each model to imputed training data, then predict\n",
    "for model in mo_regressors:\n",
    "    model[1].fit(X_train_imputed, y_train_imputed)\n",
    "    print(\"Fit \" + model[0])\n",
    "    \n",
    "    prediction_dict[model[0]] = model[1].predict(X_test_imputed)\n",
    "    print(\"Predictions made with \" + model[0])\n",
    "    \n",
    "print(\"Calculating errors . . . \")\n",
    "#5 - calculate error for each model \n",
    "for prediction in prediction_dict:\n",
    "    \n",
    "    y_hat = prediction_dict[prediction]\n",
    "    \n",
    "    unimp_cost_sq, _, _ = compute_unimputed_cost(y_test, y_hat, y_test_imputed, 'squared')\n",
    "    unimp_cost_abs, _, _ = compute_unimputed_cost(y_test, y_hat, y_test_imputed, 'absolute')\n",
    "    imp_cost_sq = mean_squared_error(y_hat, y_test_imputed)\n",
    "    imp_cost_abs = mean_absolute_error(y_hat, y_test_imputed)\n",
    "    \n",
    "    cost_dict[prediction + \"_unimputed_cost_sq\"] = unimp_cost_sq\n",
    "    cost_dict[prediction + \"_unimputed_cost_abs\"] = unimp_cost_sq\n",
    "    cost_dict[prediction + \"_imputed_cost_sq\"] = imp_cost_sq\n",
    "    cost_dict[prediction + \"_imputed_cost_abs\"] = imp_cost_sq\n",
    "    \n",
    "    print(\"Error analysis for %s complete\" % prediction)"
   ]
  },
  {
   "cell_type": "code",
   "execution_count": null,
   "metadata": {},
   "outputs": [],
   "source": [
    "#Print results for multioutput models\n",
    "print(\"Sorted in ascending order: \\n\")\n",
    "for cost in sorted(cost_dict, key=cost_dict.get, reverse=False):\n",
    "    print(cost, cost_dict[cost])"
   ]
  },
  {
   "cell_type": "code",
   "execution_count": null,
   "metadata": {},
   "outputs": [],
   "source": [
    "Random Forest_unimputed_cost_sq 0.0001655662543860639\n",
    "Random Forest_unimputed_cost_abs 0.0001655662543860639\n",
    "Random Forest_imputed_cost_sq 0.0003427480761347908\n",
    "Random Forest_imputed_cost_abs 0.0003427480761347908\n",
    "KNeighbors_unimputed_cost_sq 0.0005737431992566561\n",
    "KNeighbors_unimputed_cost_abs 0.0005737431992566561\n",
    "Linear Regression_unimputed_cost_sq 0.0008768644934505436\n",
    "Linear Regression_unimputed_cost_abs 0.0008768644934505436\n",
    "Linear Regression_imputed_cost_sq 0.001335331308048639\n",
    "Linear Regression_imputed_cost_abs 0.001335331308048639\n",
    "KNeighbors_imputed_cost_sq 0.001883435669439014\n",
    "KNeighbors_imputed_cost_abs 0.001883435669439014"
   ]
  },
  {
   "cell_type": "code",
   "execution_count": null,
   "metadata": {},
   "outputs": [],
   "source": [
    "'''------------------------------------------------------------------------------------------------------------------------\n",
    "\n",
    "                                Step 5.2: Wrapper MultiOutput Regression\n",
    "\n",
    "-------------------------------------------------------------------------------------------------------------------------'''\n",
    "\n",
    "from sklearn.multioutput import MultiOutputRegressor\n",
    "#from sklearn.svm import LinearSVM\n",
    "\n",
    "#Get a list of multioutput regressors\n",
    "mo_regressors = [(\"KNeighbors\", KNeighborsRegressor()), (\"Linear Regression\", LinearRegression()), (\"Random Forest 5\", RandomForestRegressor(n_estimators = 5))]\n",
    "prediction_dict = {}\n",
    "cost_dict = {}\n",
    "\n",
    "print(\"Starting Wrapper MultiOutput Regression with multiple models . . .\")\n",
    "\n",
    "#Fit each model to imputed training data, then predict\n",
    "for model in mo_regressors:\n",
    "    wrapper = MultiOutputRegressor(model[1])\n",
    "    wrapper.fit(X_train_imputed, y_train_imputed)\n",
    "    print(\"Fit \" + model[0])\n",
    "    \n",
    "    prediction_dict[model[0]] = wrapper.predict(X_test_imputed)\n",
    "    print(\"Predictions made with \" + model[0])\n",
    "    \n",
    "print(\"Calculating errors . . . \")\n",
    "#5 - calculate error for each model \n",
    "for prediction in prediction_dict:\n",
    "    \n",
    "    y_hat = prediction_dict[prediction]\n",
    "    \n",
    "    unimp_cost_sq, _, _ = compute_unimputed_cost(y_test, y_hat, y_test_imputed, 'squared')\n",
    "    unimp_cost_abs, _, _ = compute_unimputed_cost(y_test, y_hat, y_test_imputed, 'absolute')\n",
    "    imp_cost_sq = mean_squared_error(y_hat, y_test_imputed)\n",
    "    imp_cost_abs = mean_absolute_error(y_hat, y_test_imputed)\n",
    "    \n",
    "    cost_dict[prediction + \"_unimputed_cost_sq\"] = unimp_cost_sq\n",
    "    cost_dict[prediction + \"_unimputed_cost_abs\"] = unimp_cost_sq\n",
    "    cost_dict[prediction + \"_imputed_cost_sq\"] = imp_cost_sq\n",
    "    cost_dict[prediction + \"_imputed_cost_abs\"] = imp_cost_sq\n",
    "    \n",
    "    print(\"Error analysis for %s complete\" % prediction)\n",
    "\n",
    "\n"
   ]
  },
  {
   "cell_type": "code",
   "execution_count": null,
   "metadata": {},
   "outputs": [],
   "source": [
    "#Print results for multioutput models\n",
    "print(\"Sorted in ascending order: \\n\")\n",
    "for cost in sorted(cost_dict, key=cost_dict.get, reverse=False):\n",
    "    print(cost, cost_dict[cost])"
   ]
  },
  {
   "cell_type": "code",
   "execution_count": null,
   "metadata": {},
   "outputs": [],
   "source": [
    "#Random Forest with wrapper seems to work the best so far, lets see the results\n",
    "\n",
    "#Get a list of multioutput regressors\n",
    "mo_regressors = [(\"5\", RandomForestRegressor(n_estimators = 5)), (\"40\", RandomForestRegressor(n_estimators = 20)), (\"50\", RandomForestRegressor(n_estimators = 30))]\n",
    "prediction_dict = {}\n",
    "cost_dict_wrapper_rf = {}\n",
    "\n",
    "print(\"Starting Wrapper MultiOutput Regression with multiple models . . .\")\n",
    "\n",
    "#Fit each model to imputed training data, then predict\n",
    "for model in mo_regressors:\n",
    "    wrapper = MultiOutputRegressor(model[1])\n",
    "    wrapper.fit(X_train_imputed, y_train_imputed)\n",
    "    print(\"Fit \" + model[0])\n",
    "    \n",
    "    prediction_dict[model[0]] = wrapper.predict(X_test_imputed)\n",
    "    print(\"Predictions made with \" + model[0])\n",
    "    \n",
    "print(\"Calculating errors . . . \")\n",
    "#5 - calculate error for each model \n",
    "for prediction in prediction_dict:\n",
    "    \n",
    "    y_hat = prediction_dict[prediction]\n",
    "    \n",
    "    unimp_cost_sq, _, _ = compute_unimputed_cost(y_test, y_hat, y_test_imputed, 'squared')\n",
    "    unimp_cost_abs, _, _ = compute_unimputed_cost(y_test, y_hat, y_test_imputed, 'absolute')\n",
    "    imp_cost_sq = mean_squared_error(y_hat, y_test_imputed)\n",
    "    imp_cost_abs = mean_absolute_error(y_hat, y_test_imputed)\n",
    "    \n",
    "    cost_dict_wrapper_rf[prediction + \"_unimputed_cost_sq\"] = unimp_cost_sq\n",
    "    cost_dict_wrapper_rf[prediction + \"_unimputed_cost_abs\"] = unimp_cost_sq\n",
    "    cost_dict_wrapper_rf[prediction + \"_imputed_cost_sq\"] = imp_cost_sq\n",
    "    cost_dict_wrapper_rf[prediction + \"_imputed_cost_abs\"] = imp_cost_sq\n",
    "    \n",
    "    print(\"Error analysis for %s complete\" % prediction)"
   ]
  },
  {
   "cell_type": "code",
   "execution_count": null,
   "metadata": {},
   "outputs": [],
   "source": [
    "print(\"Costs for Wrapped RF chains in ascending order: \\n\")\n",
    "for cost in sorted(cost_dict_wrapper_rf, key=cost_dict_wrapper_rf.get, reverse=False):\n",
    "    print(cost, cost_dict_wrapper_rf[cost])"
   ]
  },
  {
   "cell_type": "code",
   "execution_count": null,
   "metadata": {},
   "outputs": [],
   "source": [
    "#Print results for multioutput models (only RFs)\n",
    "print(\"Sorted in ascending order: \\n\")\n",
    "for cost in sorted(cost_dict, key=cost_dict.get, reverse=False):\n",
    "    print(cost, cost_dict[cost])"
   ]
  },
  {
   "cell_type": "code",
   "execution_count": null,
   "metadata": {},
   "outputs": [],
   "source": []
  },
  {
   "cell_type": "code",
   "execution_count": null,
   "metadata": {},
   "outputs": [],
   "source": [
    "'''------------------------------------------------------------------------------------------------------------------------\n",
    "\n",
    "                                    Step 5.1: MultiOutput Regression, RandForests\n",
    "\n",
    "-------------------------------------------------------------------------------------------------------------------------'''\n",
    "\n",
    "from sklearn.neighbors import KNeighborsRegressor\n",
    "from sklearn.linear_model import LinearRegression\n",
    "from sklearn.ensemble import RandomForestRegressor\n",
    "from sklearn.tree import DecisionTreeRegressor\n",
    "\n",
    "from sklearn.metrics import mean_squared_error\n",
    "from sklearn.metrics import mean_absolute_error\n",
    "\n",
    "#Get a list of multioutput regressors\n",
    "mo_regressors = [(\"RF - 5\", RandomForestRegressor(n_estimators = 5)), (\"RF - 10\", RandomForestRegressor(n_estimators = 10)), (\"RF - 25\", RandomForestRegressor(n_estimators = 25)), (\"RF - 50\", RandomForestRegressor(n_estimators = 50))]\n",
    "prediction_dict = {}\n",
    "cost_dict = {}\n",
    "\n",
    "print(\"Starting MultiOutput Regression with multiple models . . .\")\n",
    "\n",
    "#Fit each model to imputed training data, then predict\n",
    "for model in mo_regressors:\n",
    "    model[1].fit(X_train_imputed, y_train_imputed)\n",
    "    print(\"Fit \" + model[0])\n",
    "    \n",
    "    prediction_dict[model[0]] = model[1].predict(X_test_imputed)\n",
    "    print(\"Predictions made with \" + model[0])\n",
    "    \n",
    "print(\"Calculating errors . . . \")\n",
    "#5 - calculate error for each model \n",
    "for prediction in prediction_dict:\n",
    "    \n",
    "    y_hat = prediction_dict[prediction]\n",
    "    \n",
    "    unimp_cost_sq, _, _ = compute_unimputed_cost(y_test, y_hat, y_test_imputed, 'squared')\n",
    "    unimp_cost_abs, _, _ = compute_unimputed_cost(y_test, y_hat, y_test_imputed, 'absolute')\n",
    "    imp_cost_sq = mean_squared_error(y_hat, y_test_imputed)\n",
    "    imp_cost_abs = mean_absolute_error(y_hat, y_test_imputed)\n",
    "    \n",
    "    cost_dict[prediction + \"_unimputed_cost_sq\"] = unimp_cost_sq\n",
    "    cost_dict[prediction + \"_unimputed_cost_abs\"] = unimp_cost_sq\n",
    "    cost_dict[prediction + \"_imputed_cost_sq\"] = imp_cost_sq\n",
    "    cost_dict[prediction + \"_imputed_cost_abs\"] = imp_cost_sq\n",
    "    \n",
    "    print(\"Error analysis for %s complete\" % prediction)"
   ]
  },
  {
   "cell_type": "code",
   "execution_count": null,
   "metadata": {},
   "outputs": [],
   "source": [
    "print(\"Sorted in ascending order: \\n\")\n",
    "for cost in sorted(cost_dict, key=cost_dict.get, reverse=False):\n",
    "    print(cost, cost_dict[cost])"
   ]
  },
  {
   "cell_type": "code",
   "execution_count": null,
   "metadata": {},
   "outputs": [],
   "source": [
    "from sklearn.metrics import mean_squared_error\n",
    "from sklearn.metrics import mean_absolute_error\n",
    "\n",
    "unimp_cost_sq, y_hat_filt, y_test_filt = compute_unimputed_cost(y_test, y_hat_knr, y_test_imputed, 'squared')\n",
    "unimp_cost_abs, y_hat_filt, y_test_filt = compute_unimputed_cost(y_test, y_hat_knr, y_test_imputed, 'absolute')\n",
    "\n",
    "imp_cost_sq = mean_squared_error(y_hat_knr, y_test_imputed)\n",
    "imp_cost_abs = mean_absolute_error(y_hat_knr, y_test_imputed)\n",
    "\n",
    "print('Imputed_abs: %f\\nImputed_sq: %f\\nUnimputed_abs: %f \\nUnimputed_sq: %f' % (imp_cost_abs, imp_cost_sq, unimp_cost_abs, unimp_cost_sq))\n",
    "\n",
    "y_hat_knr_train = my_model.predict(X_train_imputed)\n",
    "\n",
    "train_unimp_cost_sq, y_hat_filt, y_test_filt = compute_unimputed_cost(y_train, y_hat_knr_train, y_train_imputed, 'squared')\n",
    "train_unimp_cost_abs, y_hat_filt, y_test_filt = compute_unimputed_cost(y_train, y_hat_knr_train, y_train_imputed, 'absolute')\n",
    "\n",
    "train_imp_cost_sq = mean_squared_error(y_hat_knr_train, y_train_imputed)\n",
    "train_imp_cost_abs = mean_absolute_error(y_hat_knr_train, y_train_imputed)\n",
    "\n",
    "print('Training:')\n",
    "print('Imputed_abs: %f\\nImputed_sq: %f\\nUnimputed_abs: %f \\nUnimputed_sq: %f' % (train_imp_cost_abs, train_imp_cost_sq, train_unimp_cost_abs, train_unimp_cost_sq))\n"
   ]
  },
  {
   "cell_type": "code",
   "execution_count": null,
   "metadata": {},
   "outputs": [],
   "source": [
    "'''-----------------------------------------------------------\n",
    "\n",
    "    Step 5: Create model, fit, and predict \n",
    "    \n",
    "                    CROSS VALIDATION\n",
    "\n",
    "--------------------------------------------------------------'''\n",
    "\n",
    "from numpy import absolute\n",
    "from numpy import mean\n",
    "from numpy import std\n",
    "from sklearn.datasets import make_regression\n",
    "from sklearn.tree import DecisionTreeRegressor\n",
    "from sklearn.model_selection import cross_val_score\n",
    "from sklearn.model_selection import RepeatedKFold\n",
    "from sklearn import model_selection\n",
    "from sklearn.linear_model import LinearRegression\n",
    "\n",
    "targets_y = targets_y.fillna(targets_y.mean())\n",
    "features_X = features_X.fillna(features_X.mean())\n",
    "\n",
    "kfold = model_selection.KFold(n_splits=5)\n",
    "wrapper = MultiOutputRegressor(RandomForestRegressor(n_estimators = 5))\n",
    "scoring = 'r2'\n",
    "results = model_selection.cross_val_score(wrapper, features_X, targets_y, cv=kfold, scoring=scoring)\n",
    "\n",
    "#print(\"R^2: %.3f (%.3f)\") % (results.mean(), results.std())"
   ]
  },
  {
   "cell_type": "code",
   "execution_count": null,
   "metadata": {},
   "outputs": [],
   "source": [
    "print(results)"
   ]
  },
  {
   "cell_type": "code",
   "execution_count": null,
   "metadata": {},
   "outputs": [],
   "source": [
    "y_hat[0:4]"
   ]
  },
  {
   "cell_type": "code",
   "execution_count": null,
   "metadata": {},
   "outputs": [],
   "source": [
    "#Shapley Values : Determine which indicators of all of them have the greatest impact on determingin the targets, then build a model based\n",
    "#    on thse specific indicators "
   ]
  },
  {
   "cell_type": "code",
   "execution_count": null,
   "metadata": {},
   "outputs": [],
   "source": [
    "Idea: run seperate models for each target. As for projecting into the future, find a way to accurately interpolate a countries indicator values in the years 2008 and 2012, after deciding which are the best indicators to use (both shapley and threshold) and then create an indicator vector accordingly and predict its target value accordingly"
   ]
  },
  {
   "cell_type": "code",
   "execution_count": null,
   "metadata": {},
   "outputs": [],
   "source": [
    "#Random Forest with wrapper seems to work the best so far, lets see the results\n",
    "\n",
    "#Get a list of multioutput regressors\n",
    "mo_regressors = [(\"5.1\", RandomForestRegressor(n_estimators = 5)), (\"5.2\", RandomForestRegressor(n_estimators = 5)), (\"5.3\", RandomForestRegressor(n_estimators = 5))]\n",
    "prediction_dict = {}\n",
    "cost_dict_wrapper_rf = {}\n",
    "\n",
    "print(\"Starting Wrapper MultiOutput Regression with multiple models . . .\")\n",
    "\n",
    "#Fit each model to imputed training data, then predict\n",
    "for model in mo_regressors:\n",
    "    wrapper = MultiOutputRegressor(model[1])\n",
    "    wrapper.fit(X_train_imputed, y_train_imputed)\n",
    "    print(\"Fit \" + model[0])\n",
    "    \n",
    "    prediction_dict[model[0]] = wrapper.predict(X_test_imputed)\n",
    "    print(\"Predictions made with \" + model[0])\n",
    "    \n",
    "print(\"Calculating errors . . . \")\n",
    "#5 - calculate error for each model \n",
    "for prediction in prediction_dict:\n",
    "    \n",
    "    y_hat = prediction_dict[prediction]\n",
    "    \n",
    "    unimp_cost_sq, _, _ = compute_unimputed_cost(y_test, y_hat, y_test_imputed, 'squared')\n",
    "    unimp_cost_abs, _, _ = compute_unimputed_cost(y_test, y_hat, y_test_imputed, 'absolute')\n",
    "    imp_cost_sq = mean_squared_error(y_hat, y_test_imputed)\n",
    "    imp_cost_abs = mean_absolute_error(y_hat, y_test_imputed)\n",
    "    \n",
    "    cost_dict_wrapper_rf[prediction + \"_unimputed_cost_sq\"] = unimp_cost_sq\n",
    "    cost_dict_wrapper_rf[prediction + \"_unimputed_cost_abs\"] = unimp_cost_sq\n",
    "    cost_dict_wrapper_rf[prediction + \"_imputed_cost_sq\"] = imp_cost_sq\n",
    "    cost_dict_wrapper_rf[prediction + \"_imputed_cost_abs\"] = imp_cost_sq\n",
    "    \n",
    "    print(\"Error analysis for %s complete\" % prediction)"
   ]
  },
  {
   "cell_type": "code",
   "execution_count": null,
   "metadata": {},
   "outputs": [],
   "source": [
    "print(\"Costs for Wrapped RF chains in ascending order: \\n\")\n",
    "for cost in sorted(cost_dict_wrapper_rf, key=cost_dict_wrapper_rf.get, reverse=False):\n",
    "    print(cost, cost_dict_wrapper_rf[cost])"
   ]
  },
  {
   "cell_type": "code",
   "execution_count": null,
   "metadata": {},
   "outputs": [],
   "source": [
    "'''------------------------------------------------------------------------------------------------------------------------\n",
    "\n",
    "                                    Step 5.3: Fully Connected Neural Network (Keras)\n",
    "                                    \n",
    "                              *******UNDER CONSTRUcTION -- COME BACK LATER******\n",
    "\n",
    "-------------------------------------------------------------------------------------------------------------------------'''\n",
    "\n",
    "from keras.models import Sequential\n",
    "from keras.layers import Dense\n",
    "\n",
    "input_dim = 468\n",
    "output_dim = 7\n",
    "\n",
    "model = Sequential()\n",
    "model.add(Dense(230, input_dim = input_dim, activation = 'relu'))\n",
    "model.add(Dense(50, activation = 'relu'))\n",
    "model.add(Dense(output_dim))\n",
    "model.compile(loss = 'mse', optimizer = 'adam')\n",
    "\n",
    "model.summary()"
   ]
  },
  {
   "cell_type": "code",
   "execution_count": null,
   "metadata": {},
   "outputs": [],
   "source": [
    "model.fit(X_train_imputed.to_numpy(), y_train_imputed.to_numpy(), epochs = 50)"
   ]
  },
  {
   "cell_type": "code",
   "execution_count": null,
   "metadata": {},
   "outputs": [],
   "source": [
    "'''------------------------------------------------------------------------------------------------------------------------\n",
    "\n",
    "                        FEATURE IMPORTANCE -- Attempt using Random Forest with Wrapper \n",
    "                                    \n",
    "-------------------------------------------------------------------------------------------------------------------------'''\n",
    "from sklearn.ensemble import RandomForestRegressor\n",
    "from sklearn.multioutput import MultiOutputRegressor\n",
    "\n",
    "model = RandomForestRegressor(n_estimators = 5)\n",
    "wrapper = MultiOutputRegressor(model)\n",
    "\n",
    "wrapper.fit(X_train_imputed, y_train_imputed)\n",
    "y_hat = wrapper.predict(X_test_imputed)\n"
   ]
  },
  {
   "cell_type": "code",
   "execution_count": null,
   "metadata": {},
   "outputs": [],
   "source": [
    "from sklearn.metrics import mean_squared_error\n",
    "from sklearn.metrics import mean_absolute_error\n",
    "\n",
    "unimp_cost_sq, x, y = compute_unimputed_cost(y_test, y_hat, y_test_imputed, 'squared')\n",
    "unimp_cost_abs, x1, y1 = compute_unimputed_cost(y_test, y_hat, y_test_imputed, 'absolute')"
   ]
  },
  {
   "cell_type": "code",
   "execution_count": null,
   "metadata": {},
   "outputs": [],
   "source": [
    "print(unimp_cost_sq, unimp_cost_abs)"
   ]
  },
  {
   "cell_type": "code",
   "execution_count": null,
   "metadata": {},
   "outputs": [],
   "source": [
    "y_train_imputed.head()"
   ]
  },
  {
   "cell_type": "code",
   "execution_count": null,
   "metadata": {
    "scrolled": true
   },
   "outputs": [],
   "source": [
    "import eli5\n",
    "from eli5.sklearn import PermutationImportance\n",
    "\n",
    "model.fit(X_train_imputed, y_train_imputed.iloc[:,4])\n",
    "perm = PermutationImportance(model, random_state = 1).fit(X_train_imputed, y_train_imputed.iloc[:,4])\n",
    "eli5.show_weights(perm, feature_names = X_train_imputed.columns.tolist())"
   ]
  },
  {
   "cell_type": "code",
   "execution_count": null,
   "metadata": {},
   "outputs": [],
   "source": [
    "TODO: create model using all of the indicators, use shap and perm importance to pick the most importanr\n",
    "    also try using lasso and ridge for regularization and see which parameters they pick\n",
    "    also use multivariate forecasting to determine values of inidcators in 2008 and 2012. As an experiment, leave the targets in and compare the predictions with \n",
    "    the values from the models predictions\n",
    "    lastly for imputation, group countries by region and/or by socioeconomic sphere, then seperate, impute, and append\n",
    "    \n",
    "    Later model, break down each target by the indicators that specifically correspond to it(check uN website), create seperate \n",
    "    indicator dataframes for each target, and impute all of those accordingly\n",
    "    "
   ]
  },
  {
   "cell_type": "markdown",
   "metadata": {},
   "source": [
    "## Ways to improve on this project:\n",
    "    \n",
    "    1. Multivariate Time Series Imputation         \n",
    "        a. https://www.groundai.com/project/multivariate-time-series-imputation-with-variational-autoencoders/1\n",
    "        b. a. https://papers.nips.cc/paper/7432-multivariate-time-series-imputation-with-generative-adversarial-networks.pdf"
   ]
  },
  {
   "cell_type": "code",
   "execution_count": null,
   "metadata": {},
   "outputs": [],
   "source": []
  }
 ],
 "metadata": {
  "kernelspec": {
   "display_name": "Python 3",
   "language": "python",
   "name": "python3"
  },
  "language_info": {
   "codemirror_mode": {
    "name": "ipython",
    "version": 3
   },
   "file_extension": ".py",
   "mimetype": "text/x-python",
   "name": "python",
   "nbconvert_exporter": "python",
   "pygments_lexer": "ipython3",
   "version": "3.7.7"
  }
 },
 "nbformat": 4,
 "nbformat_minor": 4
}
